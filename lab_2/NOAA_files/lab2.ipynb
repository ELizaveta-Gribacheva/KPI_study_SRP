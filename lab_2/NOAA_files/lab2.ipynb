{
 "cells": [
  {
   "cell_type": "markdown",
   "metadata": {},
   "source": [
    "# laboratory work №2"
   ]
  },
  {
   "cell_type": "code",
   "execution_count": 65,
   "metadata": {},
   "outputs": [],
   "source": [
    "import pandas as pd\n",
    "import urllib.request\n",
    "from datetime import datetime\n",
    "\n",
    "import ssl\n",
    "import os\n",
    "from os import walk\n",
    "\n",
    "import glob\n",
    "\n",
    "from pathlib import Path\n",
    "import re"
   ]
  },
  {
   "cell_type": "code",
   "execution_count": 66,
   "metadata": {},
   "outputs": [
    {
     "name": "stdout",
     "output_type": "stream",
     "text": [
      "/usr/local/bin/python3\n"
     ]
    }
   ],
   "source": [
    "import sys\n",
    "print(sys.executable)"
   ]
  },
  {
   "cell_type": "markdown",
   "metadata": {},
   "source": [
    "Prepare to lab and something 🥰\n",
    "\n"
   ]
  },
  {
   "cell_type": "code",
   "execution_count": 67,
   "metadata": {},
   "outputs": [],
   "source": [
    "directory = \"./NOAA_files\"\n",
    "if not Path(directory).is_dir():\n",
    "     os.mkdir(\"./NOAA_files\")\n",
    "     print(\"New directory created\")\n",
    "\n"
   ]
  },
  {
   "cell_type": "markdown",
   "metadata": {},
   "source": [
    "## task 1\n"
   ]
  },
  {
   "cell_type": "markdown",
   "metadata": {},
   "source": [
    "**1** Downloading all 29 files in the directory with check if some files already exist with beging of the pattern name \"NOAA_ID{i}\"\n",
    "\n",
    "**2** Ability to upload files with cheking for existence "
   ]
  },
  {
   "cell_type": "code",
   "execution_count": 68,
   "metadata": {},
   "outputs": [
    {
     "name": "stdout",
     "output_type": "stream",
     "text": [
      "File of this obl exist: 1\n",
      "File of this obl exist: 2\n",
      "File of this obl exist: 3\n",
      "File of this obl exist: 4\n",
      "File of this obl exist: 5\n",
      "File of this obl exist: 6\n",
      "File of this obl exist: 7\n",
      "File of this obl exist: 8\n",
      "File of this obl exist: 9\n",
      "File of this obl exist: 10\n",
      "File of this obl exist: 11\n",
      "File of this obl exist: 12\n",
      "File of this obl exist: 13\n",
      "File of this obl exist: 14\n",
      "File of this obl exist: 15\n",
      "File of this obl exist: 16\n",
      "File of this obl exist: 17\n",
      "File of this obl exist: 18\n",
      "File of this obl exist: 19\n",
      "File of this obl exist: 20\n",
      "File of this obl exist: 21\n",
      "File of this obl exist: 22\n",
      "File of this obl exist: 23\n",
      "File of this obl exist: 24\n",
      "File of this obl exist: 25\n",
      "File of this obl exist: 26\n",
      "File of this obl exist: 27\n"
     ]
    }
   ],
   "source": [
    "for i in range(1,28):\n",
    "\n",
    "    name = \"NOAA_ID\" + str(i) + \"*\"\n",
    "    url=f'https://www.star.nesdis.noaa.gov/smcd/emb/vci/VH/get_TS_admin.php?country=UKR&provinceID={i}&year1=1981&year2=2024&type=Mean'\n",
    "\n",
    "    if glob.glob(os.path.join(directory, name)):\n",
    "        print(\"File of this obl exist: \" + str(i))\n",
    "        continue\n",
    "\n",
    "    wp = urllib.request.urlopen(url)\n",
    "    text = wp.read()\n",
    "\n",
    "    now = datetime.now()\n",
    "    date_and_time_time = now.strftime(\"%d%m%Y%H%M%S\")  \n",
    "\n",
    "    out = open(os.path.join(directory, 'NOAA_ID'+str(i)+'_'+date_and_time_time+'.csv'),'wb')\n",
    "   \n",
    "    out.write(text)\n",
    "    out.close()\n",
    "\n",
    "    print(f\"File saved to: {out}\")\n",
    " \n"
   ]
  },
  {
   "cell_type": "markdown",
   "metadata": {},
   "source": [
    "## task 2\n"
   ]
  },
  {
   "cell_type": "markdown",
   "metadata": {},
   "source": [
    "+ Creating dataFrame with files from directory\n",
    "+ Adding index through regular (from file's name)"
   ]
  },
  {
   "cell_type": "code",
   "execution_count": 69,
   "metadata": {},
   "outputs": [],
   "source": [
    "\n",
    "def reading_text(directory):\n",
    "    headers = ['Year', 'Week', 'SMN', 'SMT', 'VCI', 'TCI', 'VHI', 'empty']\n",
    "    dfs = []\n",
    "\n",
    "    # filenames = next(os.walk(directory), (None, None, []))[2] \n",
    "    filenames = os.listdir(directory)\n",
    "    #print(filenames)\n",
    "    for filename in filenames:\n",
    "        print(filename)\n",
    "        if filename.startswith(\"NOAA\") and filename.endswith(\".csv\"):\n",
    "            \n",
    "            j = int(re.search('\\d+', filename).group())\n",
    "            #print(j)\n",
    "\n",
    "            file_path = os.path.join(directory, filename)\n",
    "            df = pd.read_csv(file_path, header=1, names=headers)\n",
    "\n",
    "            df = df.drop(df.loc[df['VHI'] == -1].index)\n",
    "            \n",
    "            dfs.append(df)\n",
    "            df['area'] = j\n",
    "            \n",
    "            \n",
    "            \n",
    "    final_df = pd.concat(dfs, ignore_index=True)\n",
    "    \n",
    "    final_df = final_df.map(lambda x: re.sub(r'[^\\d]', '', str(x)).strip() if isinstance(x, str) else x)\n",
    "    final_df['Year'] = pd.to_numeric(final_df['Year'])\n",
    "    final_df['Year'] = final_df['Year'].fillna(0).astype(int)\n",
    "    \n",
    "    print(final_df.shape) \n",
    "        \n",
    "    print(final_df)\n",
    "   \n",
    "    return(final_df)\n"
   ]
  },
  {
   "cell_type": "markdown",
   "metadata": {},
   "source": [
    "- concatenate all the DataFrames in the list into a single DataFrame using the pd.concat() function.\n",
    "- The ignore_index=True argument is used to reset the index of the final DataFrame."
   ]
  },
  {
   "cell_type": "code",
   "execution_count": 70,
   "metadata": {},
   "outputs": [
    {
     "name": "stdout",
     "output_type": "stream",
     "text": [
      "NOAA_ID4_07102024121233.csv\n",
      "NOAA_ID20_07102024121249.csv\n",
      "NOAA_ID12_07102024121241.csv\n",
      "NOAA_ID7_07102024121236.csv\n",
      "NOAA_ID21_07102024121250.csv\n",
      "NOAA_ID22_07102024121251.csv\n",
      "NOAA_ID11_07102024121240.csv\n",
      "NOAA_ID24_07102024121253.csv\n",
      "NOAA_ID27_07102024121256.csv\n",
      "NOAA_ID14_07102024121243.csv\n",
      "NOAA_ID17_07102024121246.csv\n",
      "NOAA_ID10_07102024121239.csv\n",
      "NOAA_ID25_07102024121254.csv\n",
      "NOAA_ID16_07102024121245.csv\n",
      "NOAA_ID3_07102024121232.csv\n",
      "NOAA_ID2_07102024121229.csv\n",
      "NOAA_ID15_07102024121244.csv\n",
      "NOAA_ID1_07102024121228.csv\n",
      "NOAA_ID26_07102024121255.csv\n",
      "NOAA_ID18_07102024121247.csv\n",
      "NOAA_ID19_07102024121248.csv\n",
      "NOAA_ID5_07102024121234.csv\n",
      "NOAA_ID23_07102024121252.csv\n",
      "NOAA_ID8_07102024121237.csv\n",
      "NOAA_ID9_07102024121238.csv\n",
      "NOAA_ID13_07102024121242.csv\n"
     ]
    },
    {
     "name": "stdout",
     "output_type": "stream",
     "text": [
      "NOAA_ID6_07102024121235.csv\n",
      "(58698, 9)\n",
      "       Year  Week    SMN     SMT    VCI    TCI    VHI  empty  area\n",
      "0      1982   1.0  0.076  269.58  33.30  36.44  34.87    NaN     4\n",
      "1      1982   2.0  0.070  269.26  30.50  37.03  33.76    NaN     4\n",
      "2      1982   3.0  0.066  269.06  28.49  38.33  33.41    NaN     4\n",
      "3      1982   4.0  0.063  269.28  25.78  39.94  32.86    NaN     4\n",
      "4      1982   5.0  0.064  270.09  25.43  39.25  32.34    NaN     4\n",
      "...     ...   ...    ...     ...    ...    ...    ...    ...   ...\n",
      "58693  2024  36.0  0.241  301.90  41.52   7.93  24.73    NaN     6\n",
      "58694  2024  37.0  0.232  300.52  44.96   4.17  24.57    NaN     6\n",
      "58695  2024  38.0  0.225  299.13  50.31   1.91  26.11    NaN     6\n",
      "58696  2024  39.0  0.220  297.26  55.59   0.82  28.20    NaN     6\n",
      "58697     0   NaN    NaN     NaN    NaN    NaN    NaN    NaN     6\n",
      "\n",
      "[58698 rows x 9 columns]\n"
     ]
    }
   ],
   "source": [
    "final_df = reading_text(directory)\n",
    "\n",
    "#print(final_df[final_df['area'] == 9])"
   ]
  },
  {
   "cell_type": "markdown",
   "metadata": {},
   "source": [
    "## task 3"
   ]
  },
  {
   "cell_type": "markdown",
   "metadata": {},
   "source": [
    "* changing index\n"
   ]
  },
  {
   "cell_type": "code",
   "execution_count": 71,
   "metadata": {},
   "outputs": [],
   "source": [
    "def index_change():\n",
    "    index_ch = {1: 22, 2: 24, 3: 23, 4: 25, 5: 3, 6: 4, 7: 8, 8: 19, 9: 20, 10: 21, 11: 9, 12: 9, 13: 10, 14: 11, 15: 12, 16: 13, 17: 14, 18: 15, 19: 16, 20: 25, 21: 17, 22: 18, 23: 6, 24: 1, 25: 2, 26: 7, 27: 5}\n",
    "\n",
    "    final_df['area'] = final_df['area'].replace(index_ch)\n",
    "\n",
    "    print(final_df.head())\n"
   ]
  },
  {
   "cell_type": "code",
   "execution_count": 72,
   "metadata": {},
   "outputs": [
    {
     "name": "stdout",
     "output_type": "stream",
     "text": [
      "   Year  Week    SMN     SMT    VCI    TCI    VHI  empty  area\n",
      "0  1982   1.0  0.076  269.58  33.30  36.44  34.87    NaN    25\n",
      "1  1982   2.0  0.070  269.26  30.50  37.03  33.76    NaN    25\n",
      "2  1982   3.0  0.066  269.06  28.49  38.33  33.41    NaN    25\n",
      "3  1982   4.0  0.063  269.28  25.78  39.94  32.86    NaN    25\n",
      "4  1982   5.0  0.064  270.09  25.43  39.25  32.34    NaN    25\n",
      "Year       int64\n",
      "Week     float64\n",
      "SMN      float64\n",
      "SMT      float64\n",
      "VCI      float64\n",
      "TCI      float64\n",
      "VHI      float64\n",
      "empty    float64\n",
      "area       int64\n",
      "dtype: object\n"
     ]
    }
   ],
   "source": [
    "index_change()\n",
    "final_df.head()\n",
    "print(final_df.dtypes)\n"
   ]
  },
  {
   "cell_type": "markdown",
   "metadata": {},
   "source": [
    "## task 4"
   ]
  },
  {
   "cell_type": "markdown",
   "metadata": {},
   "source": [
    "### 4.0\n",
    "\n",
    "#### VHI series for the region for the year indicated \n",
    "- parametrs : region and year\n",
    "- return : vhi"
   ]
  },
  {
   "cell_type": "code",
   "execution_count": 73,
   "metadata": {},
   "outputs": [],
   "source": [
    "def vhi_region(index_region, year):\n",
    "    return final_df[(final_df['area'] == index_region) & (final_df[\"Year\"] == year)][['Year', 'area', 'VHI']]\n"
   ]
  },
  {
   "cell_type": "code",
   "execution_count": 74,
   "metadata": {},
   "outputs": [
    {
     "name": "stdout",
     "output_type": "stream",
     "text": [
      "       Year  area    VHI\n",
      "17392  1982     5  49.50\n",
      "17393  1982     5  48.62\n",
      "17394  1982     5  48.86\n",
      "17395  1982     5  46.28\n",
      "17396  1982     5  43.61\n",
      "17397  1982     5  41.71\n",
      "17398  1982     5  38.74\n",
      "17399  1982     5  37.61\n",
      "17400  1982     5  36.98\n",
      "17401  1982     5  36.44\n",
      "17402  1982     5  35.44\n",
      "17403  1982     5  37.76\n",
      "17404  1982     5  38.21\n",
      "17405  1982     5  38.85\n",
      "17406  1982     5  41.55\n",
      "17407  1982     5  45.65\n",
      "17408  1982     5  48.48\n",
      "17409  1982     5  50.68\n",
      "17410  1982     5  51.64\n",
      "17411  1982     5  53.00\n",
      "17412  1982     5  55.58\n",
      "17413  1982     5  56.63\n",
      "17414  1982     5  56.16\n",
      "17415  1982     5  54.76\n",
      "17416  1982     5  54.28\n",
      "17417  1982     5  53.63\n",
      "17418  1982     5  53.13\n",
      "17419  1982     5  54.73\n",
      "17420  1982     5  57.68\n",
      "17421  1982     5  59.19\n",
      "17422  1982     5  57.83\n",
      "17423  1982     5  56.45\n",
      "17424  1982     5  55.68\n",
      "17425  1982     5  52.51\n",
      "17426  1982     5  51.18\n",
      "17427  1982     5  50.60\n",
      "17428  1982     5  49.39\n",
      "17429  1982     5  51.20\n",
      "17430  1982     5  51.80\n",
      "17431  1982     5  48.20\n",
      "17432  1982     5  41.47\n",
      "17433  1982     5  38.89\n",
      "17434  1982     5  40.06\n",
      "17435  1982     5  36.44\n",
      "17436  1982     5  32.17\n",
      "17437  1982     5  31.70\n",
      "17438  1982     5  33.00\n",
      "17439  1982     5  34.15\n",
      "17440  1982     5  32.51\n",
      "17441  1982     5  29.88\n",
      "17442  1982     5  30.09\n",
      "17443  1982     5  29.69\n"
     ]
    }
   ],
   "source": [
    "print(vhi_region(5, 1982))"
   ]
  },
  {
   "cell_type": "markdown",
   "metadata": {},
   "source": [
    "### 4.1\n",
    "\n",
    "- Search for extremes (min and max) for the specified regions and years,mean, median;\n",
    "\n",
    "+ ->region, year\n",
    "+ <- min, max, meean and median values"
   ]
  },
  {
   "cell_type": "code",
   "execution_count": 75,
   "metadata": {},
   "outputs": [],
   "source": [
    "def extremes(year, regions):\n",
    "    data = final_df[(final_df['Year'] >= year[0]) & (final_df['Year'] <= year[1]) & \n",
    "                    (final_df['area'] >= regions[0]) & (final_df['area'] <= regions[1])] \n",
    "    \n",
    "    min_v = data['VHI'].min()\n",
    "    max_v =  data['VHI'].max()\n",
    "    mean_v = data['VHI'].mean()\n",
    "    median_v = data['VHI'].median()\n",
    "    return(\"Extremes: min-\" + str(min_v) + \" max-\" + str(max_v) + \" mean-\" + str(mean_v) + \" median-\" + str(median_v))"
   ]
  },
  {
   "cell_type": "code",
   "execution_count": 76,
   "metadata": {},
   "outputs": [
    {
     "name": "stdout",
     "output_type": "stream",
     "text": [
      "Extremes: min-12.45 max-86.6 mean-44.08454390934844 median-42.85\n"
     ]
    }
   ],
   "source": [
    "print(extremes([1984, 1990], [11, 15]))"
   ]
  },
  {
   "cell_type": "markdown",
   "metadata": {},
   "source": [
    "### 4.2\n",
    "\n",
    "- A series of VHIs for the specified range of years for the specified regions\n",
    "\n",
    "+ -> range[], regions[]\n",
    "+ <- VHI"
   ]
  },
  {
   "cell_type": "code",
   "execution_count": 77,
   "metadata": {},
   "outputs": [],
   "source": [
    "def specified_range(year, region):\n",
    "    data = final_df[(final_df['Year'] >= year[0]) & (final_df['Year'] <= year[1]) & \n",
    "                    (final_df['area'] >= region[0]) & (final_df['area'] <= region[1])] \n",
    "    # print(data['area'].unique())\n",
    "    fdata = data.sort_values(by='area')\n",
    "    #print(fdata['area'].unique())\n",
    "    return fdata[['Year', 'area', 'VHI']]\n",
    "\n"
   ]
  },
  {
   "cell_type": "code",
   "execution_count": 78,
   "metadata": {},
   "outputs": [
    {
     "name": "stdout",
     "output_type": "stream",
     "text": [
      "       Year  area    VHI\n",
      "26549  1991     2  43.04\n",
      "26550  1991     2  40.60\n",
      "26615  1992     2  60.19\n",
      "26616  1992     2  59.20\n",
      "26617  1992     2  55.68\n",
      "...     ...   ...    ...\n",
      "22525  1997    14  88.98\n",
      "22526  1997    14  86.20\n",
      "22527  1997    14  83.07\n",
      "22539  1997    14  39.66\n",
      "22500  1997    14  46.33\n",
      "\n",
      "[5558 rows x 3 columns]\n"
     ]
    }
   ],
   "source": [
    "#print(final_df[final_df['area'] == 12])\n",
    "print(specified_range([1990, 1997], [2,14]))"
   ]
  },
  {
   "cell_type": "markdown",
   "metadata": {},
   "source": [
    "### 4.3\n",
    "\n",
    "- For the entire dataset, identify the years during which extreme drought affected more than the specified percentage of regions in Ukraine (20% of regions - 5 regions out of 25). Return years, names of regions with extreme droughts and the VHI value;\n",
    "\n",
    "- VHI < 15 – посуха, інтенсивність якої від середньої до надзвичайної;\n",
    "- creat dataFrame with nead values of VHI for some years (count from percent) and region\n"
   ]
  },
  {
   "cell_type": "code",
   "execution_count": 79,
   "metadata": {},
   "outputs": [],
   "source": [
    "def droughts(percent):\n",
    "\n",
    "    count = int((percent*25)/100)\n",
    "    print(count)\n",
    "    drought = final_df[final_df['VHI'] < 15]\n",
    "    count_of_obl = drought.groupby(by='Year')['area'].count()\n",
    "    # print(count_of_obl)\n",
    "    years_d = count_of_obl[count_of_obl > count].index\n",
    "\n",
    "    return drought[drought['Year'].isin(years_d)][['Year', 'VHI', 'area']]\n",
    "\n"
   ]
  },
  {
   "cell_type": "code",
   "execution_count": 80,
   "metadata": {},
   "outputs": [
    {
     "name": "stdout",
     "output_type": "stream",
     "text": [
      "5\n",
      "       Year    VHI  area\n",
      "1279   2007  14.98    25\n",
      "1280   2007  14.23    25\n",
      "1281   2007  13.79    25\n",
      "1282   2007  13.41    25\n",
      "1283   2007  13.28    25\n",
      "...     ...    ...   ...\n",
      "57132  1993  11.34     4\n",
      "57133  1993   8.02     4\n",
      "57134  1993   6.26     4\n",
      "57135  1993   7.45     4\n",
      "57136  1993  11.29     4\n",
      "\n",
      "[96 rows x 3 columns]\n"
     ]
    }
   ],
   "source": [
    "print(droughts(20))"
   ]
  }
 ],
 "metadata": {
  "kernelspec": {
   "display_name": "Python 3",
   "language": "python",
   "name": "python3"
  },
  "language_info": {
   "codemirror_mode": {
    "name": "ipython",
    "version": 3
   },
   "file_extension": ".py",
   "mimetype": "text/x-python",
   "name": "python",
   "nbconvert_exporter": "python",
   "pygments_lexer": "ipython3",
   "version": "3.11.4"
  },
  "orig_nbformat": 4
 },
 "nbformat": 4,
 "nbformat_minor": 2
}
