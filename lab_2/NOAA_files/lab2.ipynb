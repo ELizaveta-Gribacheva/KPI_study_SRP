{
 "cells": [
  {
   "cell_type": "markdown",
   "metadata": {},
   "source": [
    "# laboratory work №2"
   ]
  },
  {
   "cell_type": "code",
   "execution_count": 424,
   "metadata": {},
   "outputs": [],
   "source": [
    "import pandas as pd\n",
    "import urllib.request\n",
    "from datetime import datetime\n",
    "\n",
    "import ssl\n",
    "import os\n",
    "from os import walk\n",
    "\n",
    "import glob\n",
    "\n",
    "from pathlib import Path\n",
    "import re"
   ]
  },
  {
   "cell_type": "code",
   "execution_count": 425,
   "metadata": {},
   "outputs": [
    {
     "name": "stdout",
     "output_type": "stream",
     "text": [
      "/usr/local/bin/python3\n"
     ]
    }
   ],
   "source": [
    "import sys\n",
    "print(sys.executable)"
   ]
  },
  {
   "cell_type": "markdown",
   "metadata": {},
   "source": [
    "Prepare to lab and something 🥰\n",
    "\n"
   ]
  },
  {
   "cell_type": "code",
   "execution_count": 426,
   "metadata": {},
   "outputs": [],
   "source": [
    "directory = \"./NOAA_files\"\n",
    "if not Path(directory).is_dir():\n",
    "     os.mkdir(\"./NOAA_files\")\n",
    "     print(\"New directory created\")\n",
    "\n"
   ]
  },
  {
   "cell_type": "markdown",
   "metadata": {},
   "source": [
    "## task 1\n"
   ]
  },
  {
   "cell_type": "markdown",
   "metadata": {},
   "source": [
    "**1** Downloading all 29 files in the directory with check if some files already exist with beging of the pattern name \"NOAA_ID{i}\"\n",
    "\n",
    "**2** Ability to upload files with cheking for existence "
   ]
  },
  {
   "cell_type": "code",
   "execution_count": 427,
   "metadata": {},
   "outputs": [
    {
     "name": "stdout",
     "output_type": "stream",
     "text": [
      "File of this obl exist: 1\n",
      "File of this obl exist: 2\n",
      "File of this obl exist: 3\n",
      "File of this obl exist: 4\n",
      "File of this obl exist: 5\n",
      "File of this obl exist: 6\n",
      "File of this obl exist: 7\n",
      "File of this obl exist: 8\n",
      "File of this obl exist: 9\n",
      "File of this obl exist: 10\n",
      "File of this obl exist: 11\n",
      "File of this obl exist: 12\n",
      "File of this obl exist: 13\n",
      "File of this obl exist: 14\n",
      "File of this obl exist: 15\n",
      "File of this obl exist: 16\n",
      "File of this obl exist: 17\n",
      "File of this obl exist: 18\n",
      "File of this obl exist: 19\n",
      "File of this obl exist: 20\n",
      "File of this obl exist: 21\n",
      "File of this obl exist: 22\n",
      "File of this obl exist: 23\n",
      "File of this obl exist: 24\n",
      "File of this obl exist: 25\n",
      "File of this obl exist: 26\n",
      "File of this obl exist: 27\n"
     ]
    }
   ],
   "source": [
    "for i in range(1,28):\n",
    "\n",
    "    name = \"NOAA_ID\" + str(i) + \"*\"\n",
    "    url=f'https://www.star.nesdis.noaa.gov/smcd/emb/vci/VH/get_TS_admin.php?country=UKR&provinceID={i}&year1=1981&year2=2024&type=Mean'\n",
    "\n",
    "    if glob.glob(os.path.join(directory, name)):\n",
    "        print(\"File of this obl exist: \" + str(i))\n",
    "        continue\n",
    "\n",
    "    wp = urllib.request.urlopen(url)\n",
    "    text = wp.read()\n",
    "\n",
    "    now = datetime.now()\n",
    "    date_and_time_time = now.strftime(\"%d%m%Y%H%M%S\")  \n",
    "\n",
    "    out = open(os.path.join(directory, 'NOAA_ID'+str(i)+'_'+date_and_time_time+'.csv'),'wb')\n",
    "   \n",
    "    out.write(text)\n",
    "    out.close()\n",
    "\n",
    "    print(f\"File saved to: {out}\")\n",
    " \n"
   ]
  },
  {
   "cell_type": "markdown",
   "metadata": {},
   "source": [
    "## task 2\n"
   ]
  },
  {
   "cell_type": "markdown",
   "metadata": {},
   "source": [
    "+ Creating dataFrame with files from directory\n",
    "+ Adding index through regular (from file's name)"
   ]
  },
  {
   "cell_type": "code",
   "execution_count": 428,
   "metadata": {},
   "outputs": [],
   "source": [
    "\n",
    "def reading_text(directory):\n",
    "    headers = ['Year', 'Week', 'SMN', 'SMT', 'VCI', 'TCI', 'VHI', 'empty']\n",
    "    dfs = []\n",
    "\n",
    "    # filenames = next(os.walk(directory), (None, None, []))[2] \n",
    "    filenames = os.listdir(directory)\n",
    "    #print(filenames)\n",
    "    for filename in filenames:\n",
    "        print(filename)\n",
    "        if filename.startswith(\"NOAA\") and filename.endswith(\".csv\"):\n",
    "            \n",
    "            j = int(re.search('\\d+', filename).group())\n",
    "            #print(j)\n",
    "\n",
    "            file_path = os.path.join(directory, filename)\n",
    "            df = pd.read_csv(file_path, header=1, names=headers)\n",
    "\n",
    "            df = df.drop(df.loc[df['VHI'] == -1].index)\n",
    "            \n",
    "            dfs.append(df)\n",
    "            df['area'] = j\n",
    "            \n",
    "            \n",
    "            \n",
    "    final_df = pd.concat(dfs, ignore_index=True)\n",
    "    \n",
    "    final_df = final_df.map(lambda x: re.sub(r'[^\\d]', '', str(x)).strip() if isinstance(x, str) else x)\n",
    "    final_df['Year'] = pd.to_numeric(final_df['Year'])\n",
    "    final_df['Year'] = final_df['Year'].fillna(0).astype(int)\n",
    "    \n",
    "    print(final_df.shape) \n",
    "        \n",
    "    print(final_df)\n",
    "   \n",
    "    return(final_df)\n"
   ]
  },
  {
   "cell_type": "markdown",
   "metadata": {},
   "source": [
    "- concatenate all the DataFrames in the list into a single DataFrame using the pd.concat() function.\n",
    "- The ignore_index=True argument is used to reset the index of the final DataFrame."
   ]
  },
  {
   "cell_type": "code",
   "execution_count": 429,
   "metadata": {},
   "outputs": [
    {
     "name": "stdout",
     "output_type": "stream",
     "text": [
      "NOAA_ID10_23092024090220.csv\n",
      "NOAA_ID23_23092024090232.csv\n",
      "NOAA_ID13_23092024090224.csv\n",
      "NOAA_ID2_23092024085236.csv\n",
      "NOAA_ID7_23092024085240.csv\n",
      ".DS_Store\n",
      "NOAA_ID20_23092024090230.csv\n",
      "NOAA_ID1_23092024085235.csv\n",
      "NOAA_ID16_23092024090226.csv\n",
      "NOAA_ID25_23092024090235.csv\n",
      "NOAA_ID5_23092024085239.csv\n",
      "NOAA_ID15_23092024090225.csv\n",
      "NOAA_ID26_23092024090235.csv\n",
      "NOAA_ID19_23092024090229.csv\n",
      "NOAA_ID9_23092024090218.csv\n",
      "NOAA_ID24_23092024090233.csv\n",
      "NOAA_ID14_23092024090224.csv\n",
      "NOAA_ID4_23092024085238.csv\n",
      "NOAA_ID27_23092024090236.csv\n",
      "NOAA_ID18_23092024090228.csv\n",
      "NOAA_ID17_23092024090227.csv\n",
      "NOAA_ID8_23092024085241.csv\n",
      "NOAA_ID12_23092024090223.csv\n",
      "NOAA_ID21_23092024090230.csv\n",
      "NOAA_ID11_23092024090222.csv\n",
      "NOAA_ID22_23092024090231.csv\n",
      "NOAA_ID3_23092024085237.csv\n",
      "NOAA_ID6_23092024085240.csv\n"
     ]
    },
    {
     "name": "stdout",
     "output_type": "stream",
     "text": [
      "(58644, 9)\n",
      "       Year  Week    SMN     SMT    VCI    TCI    VHI  empty  area\n",
      "0      1982   1.0  0.059  258.24  51.11  48.78  49.95    NaN    10\n",
      "1      1982   2.0  0.063  261.53  55.89  38.20  47.04    NaN    10\n",
      "2      1982   3.0  0.063  263.45  57.30  32.69  44.99    NaN    10\n",
      "3      1982   4.0  0.061  265.10  53.96  28.62  41.29    NaN    10\n",
      "4      1982   5.0  0.058  266.42  46.87  28.57  37.72    NaN    10\n",
      "...     ...   ...    ...     ...    ...    ...    ...    ...   ...\n",
      "58639  2024  34.0  0.270  303.73  40.38  16.82  28.61    NaN     6\n",
      "58640  2024  35.0  0.257  302.96  41.31  13.56  27.45    NaN     6\n",
      "58641  2024  36.0  0.246  301.76  44.15   9.28  26.72    NaN     6\n",
      "58642  2024  37.0  0.238  300.45  48.72   4.85  26.79    NaN     6\n",
      "58643     0   NaN    NaN     NaN    NaN    NaN    NaN    NaN     6\n",
      "\n",
      "[58644 rows x 9 columns]\n"
     ]
    }
   ],
   "source": [
    "final_df = reading_text(directory)\n",
    "\n",
    "#print(final_df[final_df['area'] == 9])"
   ]
  },
  {
   "cell_type": "markdown",
   "metadata": {},
   "source": [
    "## task 3"
   ]
  },
  {
   "cell_type": "markdown",
   "metadata": {},
   "source": [
    "* changing index\n"
   ]
  },
  {
   "cell_type": "code",
   "execution_count": 430,
   "metadata": {},
   "outputs": [],
   "source": [
    "def index_change():\n",
    "    index_ch = {1: 22, 2: 24, 3: 23, 4: 25, 5: 3, 6: 4, 7: 8, 8: 19, 9: 20, 10: 21, 11: 9, 12: 9, 13: 10, 14: 11, 15: 12, 16: 13, 17: 14, 18: 15, 19: 16, 20: 25, 21: 17, 22: 18, 23: 6, 24: 1, 25: 2, 26: 7, 27: 5}\n",
    "\n",
    "    final_df['area'] = final_df['area'].replace(index_ch)\n",
    "\n",
    "    print(final_df.head())\n"
   ]
  },
  {
   "cell_type": "code",
   "execution_count": 431,
   "metadata": {},
   "outputs": [
    {
     "name": "stdout",
     "output_type": "stream",
     "text": [
      "   Year  Week    SMN     SMT    VCI    TCI    VHI  empty  area\n",
      "0  1982   1.0  0.059  258.24  51.11  48.78  49.95    NaN    21\n",
      "1  1982   2.0  0.063  261.53  55.89  38.20  47.04    NaN    21\n",
      "2  1982   3.0  0.063  263.45  57.30  32.69  44.99    NaN    21\n",
      "3  1982   4.0  0.061  265.10  53.96  28.62  41.29    NaN    21\n",
      "4  1982   5.0  0.058  266.42  46.87  28.57  37.72    NaN    21\n",
      "Year       int64\n",
      "Week     float64\n",
      "SMN      float64\n",
      "SMT      float64\n",
      "VCI      float64\n",
      "TCI      float64\n",
      "VHI      float64\n",
      "empty    float64\n",
      "area       int64\n",
      "dtype: object\n"
     ]
    }
   ],
   "source": [
    "index_change()\n",
    "final_df.head()\n",
    "print(final_df.dtypes)\n"
   ]
  },
  {
   "cell_type": "markdown",
   "metadata": {},
   "source": [
    "## task 4"
   ]
  },
  {
   "cell_type": "markdown",
   "metadata": {},
   "source": [
    "### 4.0\n",
    "\n",
    "#### VHI series for the region for the year indicated \n",
    "- parametrs : region and year\n",
    "- return : vhi"
   ]
  },
  {
   "cell_type": "code",
   "execution_count": 432,
   "metadata": {},
   "outputs": [],
   "source": [
    "def vhi_region(index_region, year):\n",
    "    return final_df[(final_df['area'] == index_region) & (final_df[\"Year\"] == year)]\n"
   ]
  },
  {
   "cell_type": "code",
   "execution_count": 433,
   "metadata": {},
   "outputs": [
    {
     "name": "stdout",
     "output_type": "stream",
     "text": [
      "       Year  Week    SMN     SMT    VCI    TCI    VHI  empty  area\n",
      "36924  1982   1.0  0.083  261.70  57.78  41.22  49.50    NaN     5\n",
      "36925  1982   2.0  0.092  264.40  65.82  31.42  48.62    NaN     5\n",
      "36926  1982   3.0  0.097  265.74  70.62  27.11  48.86    NaN     5\n",
      "36927  1982   4.0  0.101  267.73  71.82  20.73  46.28    NaN     5\n",
      "36928  1982   5.0  0.102  268.87  65.88  21.34  43.61    NaN     5\n",
      "36929  1982   6.0  0.103  269.80  58.54  24.88  41.71    NaN     5\n",
      "36930  1982   7.0  0.104  271.19  52.98  24.51  38.74    NaN     5\n",
      "36931  1982   8.0  0.107  272.53  50.30  24.93  37.61    NaN     5\n",
      "36932  1982   9.0  0.108  273.73  47.48  26.48  36.98    NaN     5\n",
      "36933  1982  10.0  0.109  275.00  43.63  29.24  36.44    NaN     5\n",
      "36934  1982  11.0  0.117  276.51  41.24  29.63  35.44    NaN     5\n",
      "36935  1982  12.0  0.127  278.00  38.89  36.62  37.76    NaN     5\n",
      "36936  1982  13.0  0.135  279.41  33.32  43.09  38.21    NaN     5\n",
      "36937  1982  14.0  0.145  280.79  26.13  51.57  38.85    NaN     5\n",
      "36938  1982  15.0  0.154  281.85  17.49  65.61  41.55    NaN     5\n",
      "36939  1982  16.0  0.177  283.32  16.35  74.95  45.65    NaN     5\n",
      "36940  1982  17.0  0.211  285.27  18.91  78.06  48.48    NaN     5\n",
      "36941  1982  18.0  0.263  287.61  28.29  73.07  50.68    NaN     5\n",
      "36942  1982  19.0  0.316  289.67  37.51  65.76  51.64    NaN     5\n",
      "36943  1982  20.0  0.359  291.13  43.74  62.27  53.00    NaN     5\n",
      "36944  1982  21.0  0.390  291.61  46.89  64.27  55.58    NaN     5\n",
      "36945  1982  22.0  0.407  291.68  46.95  66.31  56.63    NaN     5\n",
      "36946  1982  23.0  0.415  291.80  44.97  67.35  56.16    NaN     5\n",
      "36947  1982  24.0  0.416  291.89  40.51  69.00  54.76    NaN     5\n",
      "36948  1982  25.0  0.413  291.89  36.05  72.51  54.28    NaN     5\n",
      "36949  1982  26.0  0.410  291.91  33.23  74.04  53.63    NaN     5\n",
      "36950  1982  27.0  0.412  292.34  34.11  72.15  53.13    NaN     5\n",
      "36951  1982  28.0  0.417  292.91  39.42  70.03  54.73    NaN     5\n",
      "36952  1982  29.0  0.425  293.47  48.36  67.00  57.68    NaN     5\n",
      "36953  1982  30.0  0.424  293.79  52.55  65.83  59.19    NaN     5\n",
      "36954  1982  31.0  0.422  294.09  54.26  61.41  57.83    NaN     5\n",
      "36955  1982  32.0  0.413  293.95  52.18  60.72  56.45    NaN     5\n",
      "36956  1982  33.0  0.410  293.80  54.53  56.83  55.68    NaN     5\n",
      "36957  1982  34.0  0.407  293.78  59.29  45.73  52.51    NaN     5\n",
      "36958  1982  35.0  0.400  293.11  62.62  39.74  51.18    NaN     5\n",
      "36959  1982  36.0  0.388  292.19  65.48  35.71  50.60    NaN     5\n",
      "36960  1982  37.0  0.371  291.16  65.99  32.80  49.39    NaN     5\n",
      "36961  1982  38.0  0.352  289.50  65.91  36.50  51.20    NaN     5\n",
      "36962  1982  39.0  0.328  287.61  64.37  39.22  51.80    NaN     5\n",
      "36963  1982  40.0  0.295  285.83  58.33  38.07  48.20    NaN     5\n",
      "36964  1982  41.0  0.259  284.11  49.38  33.57  41.47    NaN     5\n",
      "36965  1982  42.0  0.231  282.39  46.94  30.84  38.89    NaN     5\n",
      "36966  1982  43.0  0.204  280.33  45.87  34.26  40.06    NaN     5\n",
      "36967  1982  44.0  0.180  278.43  45.90  26.99  36.44    NaN     5\n",
      "36968  1982  45.0  0.150  276.31  40.45  23.89  32.17    NaN     5\n",
      "36969  1982  46.0  0.127  274.15  39.99  23.41  31.70    NaN     5\n",
      "36970  1982  47.0  0.108  272.12  41.23  24.77  33.00    NaN     5\n",
      "36971  1982  48.0  0.087  269.31  35.31  32.99  34.15    NaN     5\n",
      "36972  1982  49.0  0.071  266.99  27.18  37.84  32.51    NaN     5\n",
      "36973  1982  50.0  0.061  265.48  22.19  37.57  29.88    NaN     5\n",
      "36974  1982  51.0  0.059  264.21  24.00  36.19  30.09    NaN     5\n",
      "36975  1982  52.0  0.055  263.49  24.37  35.02  29.69    NaN     5\n"
     ]
    }
   ],
   "source": [
    "print(vhi_region(5, 1982))\n"
   ]
  },
  {
   "cell_type": "markdown",
   "metadata": {},
   "source": [
    "### 4.1\n",
    "\n",
    "- Search for extremes (min and max) for the specified regions and years,mean, median;\n",
    "\n",
    "+ ->region, year\n",
    "+ <- min, max, meean and median values"
   ]
  },
  {
   "cell_type": "code",
   "execution_count": 434,
   "metadata": {},
   "outputs": [],
   "source": [
    "def extremes(region, year):\n",
    "    min_v = final_df[(final_df['area'] == region) & (final_df['Year'] == year)]['VHI'].min()\n",
    "    max_v =  final_df[(final_df['area'] == region) & (final_df['Year'] == year)]['VHI'].max()\n",
    "    mean_v = final_df[(final_df['area'] == region) & (final_df['Year'] == year)]['VHI'].mean()\n",
    "    median_v = final_df[(final_df['area'] == region) & (final_df['Year'] == year)]['VHI'].median()\n",
    "    return(\"Extremes: min-\" + str(min_v) + \" max-\" + str(max_v) + \" mean-\" + str(mean_v) + \" median-\" + str(median_v))"
   ]
  },
  {
   "cell_type": "code",
   "execution_count": 435,
   "metadata": {},
   "outputs": [
    {
     "name": "stdout",
     "output_type": "stream",
     "text": [
      "Extremes: min-23.06 max-62.09 mean-35.93306122448979 median-35.21\n"
     ]
    }
   ],
   "source": [
    "print(extremes(11, 1984))"
   ]
  },
  {
   "cell_type": "markdown",
   "metadata": {},
   "source": [
    "### 4.2\n",
    "\n",
    "- A series of VHIs for the specified range of years for the specified regions\n",
    "\n",
    "+ -> range[], regions[]\n",
    "+ <- VHI"
   ]
  },
  {
   "cell_type": "code",
   "execution_count": 436,
   "metadata": {},
   "outputs": [],
   "source": [
    "def specified_range(year, region):\n",
    "    data = final_df[(final_df['Year'] >= year[0]) & (final_df['Year'] <= year[1]) & (final_df['area'] >= region[0]) & (final_df['area'] < region[1])]\n",
    "    return (data)"
   ]
  },
  {
   "cell_type": "markdown",
   "metadata": {},
   "source": [
    "It's not a bug. It's a feature => find the regions **up** to the specified  :sob: "
   ]
  },
  {
   "cell_type": "code",
   "execution_count": 437,
   "metadata": {},
   "outputs": [
    {
     "name": "stdout",
     "output_type": "stream",
     "text": [
      "       Year  Week    SMN     SMT    VCI    TCI    VHI  empty  area\n",
      "2577   1990   1.0  0.083  267.82  37.24  21.50  29.37    NaN     6\n",
      "2578   1990   2.0  0.081  268.63  35.03  19.14  27.09    NaN     6\n",
      "2579   1990   3.0  0.080  269.13  33.27  20.09  26.68    NaN     6\n",
      "2580   1990   4.0  0.087  270.65  37.61  15.90  26.75    NaN     6\n",
      "2581   1990   5.0  0.098  272.82  44.32   8.98  26.65    NaN     6\n",
      "...     ...   ...    ...     ...    ...    ...    ...    ...   ...\n",
      "57269  1997  48.0  0.057  264.55  31.73  41.33  36.53    NaN     4\n",
      "57270  1997  49.0  0.051  262.16  30.57  40.40  35.49    NaN     4\n",
      "57271  1997  50.0  0.048  260.26  31.98  39.42  35.70    NaN     4\n",
      "57272  1997  51.0  0.046  258.99  36.53  41.47  39.00    NaN     4\n",
      "57273  1997  52.0  0.045  258.48  44.46  42.56  43.51    NaN     4\n",
      "\n",
      "[5161 rows x 9 columns]\n"
     ]
    }
   ],
   "source": [
    "# print(final_df[final_df['area'] == 12])\n",
    "print(specified_range([1990, 1997], [2,14]))"
   ]
  },
  {
   "cell_type": "markdown",
   "metadata": {},
   "source": [
    "### 4.3\n",
    "\n",
    "- For the entire dataset, identify the years during which extreme drought affected more than the specified percentage of regions in Ukraine (20% of regions - 5 regions out of 25). Return years, names of regions with extreme droughts and the VHI value;\n",
    "\n",
    "- VHI < 15 – посуха, інтенсивність якої від середньої до надзвичайної;\n",
    "- creat dataFrame with mead values of VHI for every year and region\n"
   ]
  },
  {
   "cell_type": "code",
   "execution_count": 438,
   "metadata": {},
   "outputs": [],
   "source": [
    "def droughts(percent):\n",
    "    result = []\n",
    "    count_obl_all = len(final_df['area'].unique())\n",
    "    count_obl = int((percent/100)*count_obl_all)\n",
    "\n",
    "    for i in final_df['Year'].unique():\n",
    "        arr_year = final_df[final_df['Year'] == i]\n",
    "        affected_regions = (arr_year['VHI'] < 40).groupby(arr_year['area']).any()\n",
    "\n",
    "        if  affected_regions.sum() > count_obl:\n",
    "            result.append(i)\n",
    "    \n",
    "    return result\n",
    "\n",
    "    print(count_obl)"
   ]
  },
  {
   "cell_type": "code",
   "execution_count": 439,
   "metadata": {},
   "outputs": [
    {
     "name": "stdout",
     "output_type": "stream",
     "text": [
      "[np.int64(1982), np.int64(1983), np.int64(1984), np.int64(1985), np.int64(1986), np.int64(1987), np.int64(1988), np.int64(1989), np.int64(1990), np.int64(1991), np.int64(1992), np.int64(1993), np.int64(1994), np.int64(1995), np.int64(1996), np.int64(1997), np.int64(1998), np.int64(1999), np.int64(2000), np.int64(2001), np.int64(2002), np.int64(2003), np.int64(2004), np.int64(2005), np.int64(2006), np.int64(2007), np.int64(2008), np.int64(2009), np.int64(2010), np.int64(2011), np.int64(2012), np.int64(2013), np.int64(2014), np.int64(2015), np.int64(2016), np.int64(2017), np.int64(2018), np.int64(2019), np.int64(2020), np.int64(2021), np.int64(2022), np.int64(2023), np.int64(2024)]\n"
     ]
    }
   ],
   "source": [
    "print(droughts(20))"
   ]
  }
 ],
 "metadata": {
  "kernelspec": {
   "display_name": "Python 3",
   "language": "python",
   "name": "python3"
  },
  "language_info": {
   "codemirror_mode": {
    "name": "ipython",
    "version": 3
   },
   "file_extension": ".py",
   "mimetype": "text/x-python",
   "name": "python",
   "nbconvert_exporter": "python",
   "pygments_lexer": "ipython3",
   "version": "3.11.4"
  },
  "orig_nbformat": 4
 },
 "nbformat": 4,
 "nbformat_minor": 2
}
