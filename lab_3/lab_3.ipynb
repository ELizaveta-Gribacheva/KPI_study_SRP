{
 "cells": [
  {
   "cell_type": "markdown",
   "metadata": {},
   "source": [
    "# laboratory work №3\n"
   ]
  },
  {
   "cell_type": "code",
   "execution_count": 1,
   "metadata": {},
   "outputs": [
    {
     "name": "stderr",
     "output_type": "stream",
     "text": [
      "WARNING:root:Warning: unable to set defaultencoding to utf-8\n"
     ]
    }
   ],
   "source": [
    "from spyre import server\n",
    "\n",
    "import pandas as pd\n",
    "import os\n",
    "import urllib3\n",
    "import json\n",
    "import re\n",
    "import matplotlib.pyplot as plt\n",
    "\n",
    "import __main__ as main\n",
    "main.__file__ = \"main_file\""
   ]
  },
  {
   "cell_type": "markdown",
   "metadata": {},
   "source": [
    "## part 1 - prepare to app\n",
    "\n",
    "- from lab2\n",
    "+ Creating dataFrame with files from directory\n",
    "+ Adding index through regular (from file's name)"
   ]
  },
  {
   "cell_type": "code",
   "execution_count": 2,
   "metadata": {},
   "outputs": [],
   "source": [
    "def reading_text(directory):\n",
    "    headers = ['Year', 'Week', 'SMN', 'SMT', 'VCI', 'TCI', 'VHI', 'empty']\n",
    "    dfs = []\n",
    "\n",
    "    # filenames = next(os.walk(directory), (None, None, []))[2] \n",
    "    filenames = os.listdir(directory)\n",
    "    #print(filenames)\n",
    "    for filename in filenames:\n",
    "        # print(filename)\n",
    "        if filename.startswith(\"NOAA\") and filename.endswith(\".csv\"):\n",
    "            \n",
    "            j = int(re.search('\\d+', filename).group())\n",
    "            #print(j)\n",
    "\n",
    "            file_path = os.path.join(directory, filename)\n",
    "            df = pd.read_csv(file_path, header=1, names=headers)\n",
    "\n",
    "            df = df.drop(df.loc[df['VHI'] == -1].index)\n",
    "            df['area'] = j\n",
    "            dfs.append(df)\n",
    "            \n",
    "            \n",
    "    final_df = pd.concat(dfs, ignore_index=True)\n",
    "\n",
    "    final_df = final_df.map(lambda x: re.sub(r'[^\\d]', '', str(x)).strip() if isinstance(x, str) else x)\n",
    "    final_df['Year'] = pd.to_numeric(final_df['Year'])\n",
    "    final_df['Year'] = final_df['Year'].fillna(0).astype(int)\n",
    "    \n",
    "    # print(final_df.shape) \n",
    "        \n",
    "    # print(final_df)\n",
    "    # print(final_df.dtypes)\n",
    "\n",
    "    return(final_df)\n",
    "\n"
   ]
  },
  {
   "cell_type": "code",
   "execution_count": 3,
   "metadata": {},
   "outputs": [
    {
     "data": {
      "text/plain": [
       "Year       int64\n",
       "Week     float64\n",
       "SMN      float64\n",
       "SMT      float64\n",
       "VCI      float64\n",
       "TCI      float64\n",
       "VHI      float64\n",
       "empty    float64\n",
       "area       int64\n",
       "dtype: object"
      ]
     },
     "execution_count": 3,
     "metadata": {},
     "output_type": "execute_result"
    }
   ],
   "source": [
    "df = reading_text(\"../lab_2/NOAA_files/\")\n",
    "\n",
    "df.shape\n",
    "df.dtypes\n",
    "\n",
    "# print(df.columns) \n",
    "# print(df.index) "
   ]
  },
  {
   "cell_type": "markdown",
   "metadata": {},
   "source": [
    "### SimpleApp\n",
    "\n",
    "+ web app with module Spyre\n",
    "обрати часовий ряд VCI, TCI, VHI для набору даних із лабораторної\n",
    "роботи 2 (dropdown список);\n",
    "\n",
    "- Вибрати область, для якої буде виконуватись аналіз (dropdown список);\n",
    "- Зазначити інтервал тижнів, за які відбираються дані;\n",
    "- Зазначити інтервал років та продумати відображення на графіку обраних\n",
    "даних (часові ряди задіапазон років, що обмежені інтервалом тижнів)\n",
    "- Створити кілька вкладок для відображення таблиці із даними на графіку\n",
    "ходу індексів;"
   ]
  },
  {
   "cell_type": "code",
   "execution_count": 4,
   "metadata": {},
   "outputs": [],
   "source": [
    "\n",
    "class SimpleApp(server.App):\n",
    "    title = \"NOAA data visualization\"\n",
    "    inputs = [\n",
    "            { \"type\": 'dropdown',\n",
    "                    \"label\": \"NOAA data dropdown\",\n",
    "                    \"options\" : [ {\"label\": \"VCI\", \"value\":\"VCI\" },\n",
    "                        {\"label\":\"TCI\", \"value\":\"TCI\"},\n",
    "                        {\"label\":\"VHI\", \"value\":\"VHI\"}],\n",
    "                    \"key\": 'ticker',\n",
    "                    \"default\": \"VCI\",\n",
    "                    \"action_id\": \"update_data\"\n",
    "            },\n",
    "            {\n",
    "                        \"type\": 'dropdown',\n",
    "                        \"label\": \"NOAA \",\n",
    "                        \"options\" : [ {\"label\": \"1: Cherkasy\", \"value\":1 },\n",
    "                            {\"label\":\"2:Chernihiv\", \"value\":2},\n",
    "                            {\"label\":\"3:Chernivtsi\", \"value\":3},\n",
    "                            {\"label\":\"4:Crimea\", \"value\":\"4:Crimea\"},\n",
    "                            {\"label\":\"5:Dnipropetrovs’k\", \"value\":5},\n",
    "                            {\"label\":\"6:Donets’k\", \"value\":6},\n",
    "                            {\"label\":\"7:Ivano-Frankivsk\", \"value\":7},\n",
    "                            {\"label\":\"8:Kharkiv\", \"value\":8},\n",
    "                            {\"label\":\"9:Kherson\", \"value\":9},\n",
    "                            {\"label\":\"10:Khmelnytskyy\", \"value\":10},\n",
    "                            {\"label\":\"11:Kiev\", \"value\":11},\n",
    "                            {\"label\":\"12:Kiev City\", \"value\":12},\n",
    "                            {\"label\":\"13:Kirovohrad\", \"value\":13},\n",
    "                            {\"label\":\"14:Luhansk\", \"value\":14},\n",
    "                            {\"label\":\"15:L’viv\", \"value\":15},\n",
    "                            {\"label\":\"16:Mykolaiv\", \"value\":16},\n",
    "                            {\"label\":\"17:Odessa\", \"value\":17},\n",
    "                            {\"label\":\"18:Poltava\", \"value\":18},\n",
    "                            {\"label\":\"19:Rivne\", \"value\":19},\n",
    "                            {\"label\":\"20:Sevastopol’\", \"value\":20},\n",
    "                            {\"label\":\"21:Sumy\", \"value\":21},\n",
    "                            {\"label\":\"22:Ternopil\", \"value\":22},\n",
    "                            {\"label\":\"23:Transcarpathia\", \"value\":23},\n",
    "                            {\"label\":\"24:Vinnytsya\", \"value\":24},\n",
    "                            {\"label\":\"25:Volyn\", \"value\":25},\n",
    "                            {\"label\":\"26:Zaporizhzhya\", \"value\":26},\n",
    "                            {\"label\":\"\", \"value\":7}],\n",
    "                        \"key\": 'area',\n",
    "                        'default':26,\n",
    "                        \"action_id\": \"update_data\" \n",
    "            },{\n",
    "                            \"type\": 'slider',\n",
    "                            \"label\": 'Indicate the year of the beginning of the interval',\n",
    "                            \"min\": 1982, \"max\": 2024,\n",
    "                            \"value\": 1990,\n",
    "                            \"default\": 1921,\n",
    "                            \"key\": 'year_first',\n",
    "                            \"action_id\": 'update_data'\n",
    "            },{\n",
    "                            \"type\": 'slider',\n",
    "                            \"label\": 'Indicate the year of the end  of the interval',\n",
    "                            \"min\": 1982, \"max\": 2024,\n",
    "                            \"value\": 2000,\n",
    "                            \"default\": 1990,\n",
    "                            \"key\": 'year_second',\n",
    "                            \"action_id\": 'update_data'\n",
    "            },{\n",
    "                            \"type\": \"text\",\n",
    "                            \"label\": \"Specify the weekly interval\",\n",
    "                            \"action_id\": \"update_data\",\n",
    "                            \"value\": \"1,2\",\n",
    "                            \"default\": \"1,2\",\n",
    "                            \"key\":\"week\"\n",
    "            } \n",
    "                \n",
    "        ]\n",
    "    \n",
    "    controls = [{   \"control_type\" : \"hidden\",  \n",
    "                    \"label\" : \"NOAA\",\n",
    "                    \"control_id\" : \"update_data\"}]\n",
    "    \n",
    "    tabs = [\"Plot\", \"Table\"]\n",
    "\n",
    "    outputs = [\n",
    "        {\n",
    "            \"type\": \"plot\",\n",
    "            \"id\": \"plot\",\n",
    "            \"control_id\": \"update_data\",\n",
    "            \"tab\": \"Plot\"},\n",
    "        {\n",
    "            \"type\": \"table\",\n",
    "            \"id\": \"table_id\",\n",
    "            \"control_id\": \"update_data\",\n",
    "            \"tab\": \"Table\",\n",
    "            \"on_page_load\": True\n",
    "        }\n",
    "    ]\n",
    "\n",
    "    # df.head()\n",
    "\n",
    "    def getData(self, params):\n",
    "        \n",
    "        ticker = params['ticker']\n",
    "        area = int(params['area'])\n",
    "        year_first = int(params['year_first'])\n",
    "        year_second = int(params['year_second'])\n",
    "        week = (params['week'].split(','))\n",
    "        week_start = float(week[0].strip())  \n",
    "        week_end = float(week[1].strip())\n",
    "        \n",
    "        # print(\"Total score for %s is %s\" % (area, year_second ))\n",
    "        # print(df['area'] == area)\n",
    "        # print(type(area))\n",
    "\n",
    "        final_df = df[(df['area'] == area) & \n",
    "                           (df['Year'] >= year_first) & (df['Year'] <= year_second) &\n",
    "                          (df['Week'] >= week_start) & (df['Week'] <= week_end)]\n",
    "\n",
    "        # print (final_df[ ticker])\n",
    "        # print(ticker)\n",
    "        return final_df[['Year', 'Week',ticker]]\n",
    "    \n",
    "\n",
    "    def getPlot(self, params):\n",
    "        df_f = self.getData(params).set_index(['Year', 'Week'])\n",
    "        print(111)\n",
    "        print(df_f)\n",
    "        obj = df_f.plot(figsize=(15, 6))\n",
    "        fig = obj.get_figure()\n",
    "        \n",
    "        return fig\n"
   ]
  },
  {
   "cell_type": "code",
   "execution_count": 5,
   "metadata": {},
   "outputs": [
    {
     "name": "stderr",
     "output_type": "stream",
     "text": [
      "[28/Oct/2024:19:54:03] ENGINE Listening for SIGTERM.\n",
      "INFO:cherrypy.error:[28/Oct/2024:19:54:03] ENGINE Listening for SIGTERM.\n",
      "[28/Oct/2024:19:54:03] ENGINE Listening for SIGHUP.\n",
      "INFO:cherrypy.error:[28/Oct/2024:19:54:03] ENGINE Listening for SIGHUP.\n",
      "[28/Oct/2024:19:54:03] ENGINE Listening for SIGUSR1.\n",
      "INFO:cherrypy.error:[28/Oct/2024:19:54:03] ENGINE Listening for SIGUSR1.\n",
      "[28/Oct/2024:19:54:03] ENGINE Bus STARTING\n",
      "INFO:cherrypy.error:[28/Oct/2024:19:54:03] ENGINE Bus STARTING\n",
      "CherryPy Checker:\n",
      "The Application mounted at '' has an empty config.\n",
      "\n",
      "[28/Oct/2024:19:54:03] ENGINE Started monitor thread 'Autoreloader'.\n",
      "INFO:cherrypy.error:[28/Oct/2024:19:54:03] ENGINE Started monitor thread 'Autoreloader'.\n",
      "[28/Oct/2024:19:54:03] ENGINE Serving on http://127.0.0.1:8081\n",
      "INFO:cherrypy.error:[28/Oct/2024:19:54:03] ENGINE Serving on http://127.0.0.1:8081\n",
      "[28/Oct/2024:19:54:03] ENGINE Bus STARTED\n",
      "INFO:cherrypy.error:[28/Oct/2024:19:54:03] ENGINE Bus STARTED\n"
     ]
    },
    {
     "name": "stdout",
     "output_type": "stream",
     "text": [
      "127.0.0.1 - - [28/Oct/2024:19:54:09] \"GET /spinning_wheel HTTP/1.1\" 200 2663 \"http://127.0.0.1:8081/?ticker=TCI&area=12&year_first=__float__1994&year_second=__float__2007&week=1,55&\" \"Mozilla/5.0 (Macintosh; Intel Mac OS X 10_15_7) AppleWebKit/537.36 (KHTML, like Gecko) Chrome/130.0.0.0 Safari/537.36\"\n",
      "111\n"
     ]
    },
    {
     "name": "stderr",
     "output_type": "stream",
     "text": [
      "INFO:cherrypy.access.4638282640:127.0.0.1 - - [28/Oct/2024:19:54:09] \"GET /spinning_wheel HTTP/1.1\" 200 2663 \"http://127.0.0.1:8081/?ticker=TCI&area=12&year_first=__float__1994&year_second=__float__2007&week=1,55&\" \"Mozilla/5.0 (Macintosh; Intel Mac OS X 10_15_7) AppleWebKit/537.36 (KHTML, like Gecko) Chrome/130.0.0.0 Safari/537.36\"\n"
     ]
    },
    {
     "name": "stdout",
     "output_type": "stream",
     "text": [
      "127.0.0.1 - - [28/Oct/2024:19:54:10] \"GET /table?ticker=TCI&area=12&year_first=__float__1994&year_second=__float__2007&week=1,55&output_id=table_id& HTTP/1.1\" 200 55296 \"http://127.0.0.1:8081/?ticker=TCI&area=12&year_first=__float__1994&year_second=__float__2007&week=1,55&\" \"Mozilla/5.0 (Macintosh; Intel Mac OS X 10_15_7) AppleWebKit/537.36 (KHTML, like Gecko) Chrome/130.0.0.0 Safari/537.36\"\n",
      "             TCI\n",
      "Year Week       \n",
      "1994 1.0    4.31\n",
      "     2.0    6.08\n",
      "     3.0    9.09\n",
      "     4.0    9.50\n",
      "     5.0   15.27\n",
      "...          ...\n",
      "2007 48.0  70.08\n",
      "     49.0  71.80\n",
      "     50.0  74.09\n",
      "     51.0  66.65\n",
      "     52.0  55.75\n",
      "\n",
      "[689 rows x 1 columns]\n"
     ]
    },
    {
     "name": "stderr",
     "output_type": "stream",
     "text": [
      "INFO:cherrypy.access.4638282640:127.0.0.1 - - [28/Oct/2024:19:54:10] \"GET /table?ticker=TCI&area=12&year_first=__float__1994&year_second=__float__2007&week=1,55&output_id=table_id& HTTP/1.1\" 200 55296 \"http://127.0.0.1:8081/?ticker=TCI&area=12&year_first=__float__1994&year_second=__float__2007&week=1,55&\" \"Mozilla/5.0 (Macintosh; Intel Mac OS X 10_15_7) AppleWebKit/537.36 (KHTML, like Gecko) Chrome/130.0.0.0 Safari/537.36\"\n",
      "ERROR:root:Error: getPlot method must return an pyplot figure or matplotlib Axes object\n"
     ]
    },
    {
     "name": "stdout",
     "output_type": "stream",
     "text": [
      "127.0.0.1 - - [28/Oct/2024:19:54:10] \"GET /plot?ticker=TCI&area=12&year_first=__float__1994&year_second=__float__2007&week=1,55&output_id=plot& HTTP/1.1\" 200 96042 \"http://127.0.0.1:8081/?ticker=TCI&area=12&year_first=__float__1994&year_second=__float__2007&week=1,55&\" \"Mozilla/5.0 (Macintosh; Intel Mac OS X 10_15_7) AppleWebKit/537.36 (KHTML, like Gecko) Chrome/130.0.0.0 Safari/537.36\"\n"
     ]
    },
    {
     "name": "stderr",
     "output_type": "stream",
     "text": [
      "INFO:cherrypy.access.4638282640:127.0.0.1 - - [28/Oct/2024:19:54:10] \"GET /plot?ticker=TCI&area=12&year_first=__float__1994&year_second=__float__2007&week=1,55&output_id=plot& HTTP/1.1\" 200 96042 \"http://127.0.0.1:8081/?ticker=TCI&area=12&year_first=__float__1994&year_second=__float__2007&week=1,55&\" \"Mozilla/5.0 (Macintosh; Intel Mac OS X 10_15_7) AppleWebKit/537.36 (KHTML, like Gecko) Chrome/130.0.0.0 Safari/537.36\"\n"
     ]
    }
   ],
   "source": [
    "app = SimpleApp()\n",
    "app.launch(port=8081)"
   ]
  }
 ],
 "metadata": {
  "kernelspec": {
   "display_name": "Python 3",
   "language": "python",
   "name": "python3"
  },
  "language_info": {
   "codemirror_mode": {
    "name": "ipython",
    "version": 3
   },
   "file_extension": ".py",
   "mimetype": "text/x-python",
   "name": "python",
   "nbconvert_exporter": "python",
   "pygments_lexer": "ipython3",
   "version": "3.11.4"
  },
  "orig_nbformat": 4
 },
 "nbformat": 4,
 "nbformat_minor": 2
}
