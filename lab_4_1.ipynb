{
 "cells": [
  {
   "cell_type": "markdown",
   "metadata": {},
   "source": [
    "# Laboratory work №4"
   ]
  },
  {
   "cell_type": "markdown",
   "metadata": {},
   "source": [
    "## Part 1\n",
    "\n"
   ]
  },
  {
   "cell_type": "markdown",
   "metadata": {},
   "source": [
    "### Prepare to lab & modules"
   ]
  },
  {
   "cell_type": "code",
   "execution_count": 39,
   "metadata": {},
   "outputs": [],
   "source": [
    "import timeit\n",
    "import os\n",
    "from os import walk\n",
    "import urllib.request\n",
    "from pathlib import Path\n",
    "from datetime import datetime\n",
    "\n",
    "import pandas as pd\n",
    "import numpy as np\n",
    "\n",
    "from io import StringIO"
   ]
  },
  {
   "cell_type": "code",
   "execution_count": 40,
   "metadata": {},
   "outputs": [],
   "source": [
    "file_path = './household_power_consumption_l4.txt'\n",
    "\n",
    "# df['Time'] = df['Time'].dt.time"
   ]
  },
  {
   "cell_type": "markdown",
   "metadata": {},
   "source": [
    "Read a comma-separated values (csv) file into num_dfFrame.\n",
    "\n"
   ]
  },
  {
   "cell_type": "code",
   "execution_count": 41,
   "metadata": {},
   "outputs": [],
   "source": [
    "def readind_text_pandas(file_path):\n",
    "    # dtype_dict = {'Date': 'str', 'Time': 'str', 'Global_active_power' : 'float', 'Global_reactive_power': 'float', 'Voltage': 'float', 'Global_intensity':'float', 'Sub_metering_1': 'float', 'Sub_metering_2': 'float', 'Sub_metering_3': 'float'}\n",
    "    headers = ['Date','Time', 'Global_active_power', 'Global_reactive_power', 'Voltage', 'Global_intensity', 'Sub_metering_1', 'Sub_metering_2', 'Sub_metering_3']\n",
    "    df = pd.read_csv(file_path, sep=';', header=1, names=headers, na_values='?', low_memory=False)\n",
    "    return df"
   ]
  },
  {
   "cell_type": "code",
   "execution_count": 42,
   "metadata": {},
   "outputs": [
    {
     "data": {
      "text/html": [
       "<div>\n",
       "<style scoped>\n",
       "    .dataframe tbody tr th:only-of-type {\n",
       "        vertical-align: middle;\n",
       "    }\n",
       "\n",
       "    .dataframe tbody tr th {\n",
       "        vertical-align: top;\n",
       "    }\n",
       "\n",
       "    .dataframe thead th {\n",
       "        text-align: right;\n",
       "    }\n",
       "</style>\n",
       "<table border=\"1\" class=\"dataframe\">\n",
       "  <thead>\n",
       "    <tr style=\"text-align: right;\">\n",
       "      <th></th>\n",
       "      <th>Date</th>\n",
       "      <th>Time</th>\n",
       "      <th>Global_active_power</th>\n",
       "      <th>Global_reactive_power</th>\n",
       "      <th>Voltage</th>\n",
       "      <th>Global_intensity</th>\n",
       "      <th>Sub_metering_1</th>\n",
       "      <th>Sub_metering_2</th>\n",
       "      <th>Sub_metering_3</th>\n",
       "    </tr>\n",
       "  </thead>\n",
       "  <tbody>\n",
       "    <tr>\n",
       "      <th>0</th>\n",
       "      <td>16/12/2006</td>\n",
       "      <td>17:25:00</td>\n",
       "      <td>5.360</td>\n",
       "      <td>0.436</td>\n",
       "      <td>233.63</td>\n",
       "      <td>23.0</td>\n",
       "      <td>0.0</td>\n",
       "      <td>1.0</td>\n",
       "      <td>16.0</td>\n",
       "    </tr>\n",
       "    <tr>\n",
       "      <th>1</th>\n",
       "      <td>16/12/2006</td>\n",
       "      <td>17:26:00</td>\n",
       "      <td>5.374</td>\n",
       "      <td>0.498</td>\n",
       "      <td>233.29</td>\n",
       "      <td>23.0</td>\n",
       "      <td>0.0</td>\n",
       "      <td>2.0</td>\n",
       "      <td>17.0</td>\n",
       "    </tr>\n",
       "    <tr>\n",
       "      <th>2</th>\n",
       "      <td>16/12/2006</td>\n",
       "      <td>17:27:00</td>\n",
       "      <td>5.388</td>\n",
       "      <td>0.502</td>\n",
       "      <td>233.74</td>\n",
       "      <td>23.0</td>\n",
       "      <td>0.0</td>\n",
       "      <td>1.0</td>\n",
       "      <td>17.0</td>\n",
       "    </tr>\n",
       "    <tr>\n",
       "      <th>3</th>\n",
       "      <td>16/12/2006</td>\n",
       "      <td>17:28:00</td>\n",
       "      <td>3.666</td>\n",
       "      <td>0.528</td>\n",
       "      <td>235.68</td>\n",
       "      <td>15.8</td>\n",
       "      <td>0.0</td>\n",
       "      <td>1.0</td>\n",
       "      <td>17.0</td>\n",
       "    </tr>\n",
       "    <tr>\n",
       "      <th>4</th>\n",
       "      <td>16/12/2006</td>\n",
       "      <td>17:29:00</td>\n",
       "      <td>3.520</td>\n",
       "      <td>0.522</td>\n",
       "      <td>235.02</td>\n",
       "      <td>15.0</td>\n",
       "      <td>0.0</td>\n",
       "      <td>2.0</td>\n",
       "      <td>17.0</td>\n",
       "    </tr>\n",
       "    <tr>\n",
       "      <th>...</th>\n",
       "      <td>...</td>\n",
       "      <td>...</td>\n",
       "      <td>...</td>\n",
       "      <td>...</td>\n",
       "      <td>...</td>\n",
       "      <td>...</td>\n",
       "      <td>...</td>\n",
       "      <td>...</td>\n",
       "      <td>...</td>\n",
       "    </tr>\n",
       "    <tr>\n",
       "      <th>2075253</th>\n",
       "      <td>26/11/2010</td>\n",
       "      <td>20:58:00</td>\n",
       "      <td>0.946</td>\n",
       "      <td>0.000</td>\n",
       "      <td>240.43</td>\n",
       "      <td>4.0</td>\n",
       "      <td>0.0</td>\n",
       "      <td>0.0</td>\n",
       "      <td>0.0</td>\n",
       "    </tr>\n",
       "    <tr>\n",
       "      <th>2075254</th>\n",
       "      <td>26/11/2010</td>\n",
       "      <td>20:59:00</td>\n",
       "      <td>0.944</td>\n",
       "      <td>0.000</td>\n",
       "      <td>240.00</td>\n",
       "      <td>4.0</td>\n",
       "      <td>0.0</td>\n",
       "      <td>0.0</td>\n",
       "      <td>0.0</td>\n",
       "    </tr>\n",
       "    <tr>\n",
       "      <th>2075255</th>\n",
       "      <td>26/11/2010</td>\n",
       "      <td>21:00:00</td>\n",
       "      <td>0.938</td>\n",
       "      <td>0.000</td>\n",
       "      <td>239.82</td>\n",
       "      <td>3.8</td>\n",
       "      <td>0.0</td>\n",
       "      <td>0.0</td>\n",
       "      <td>0.0</td>\n",
       "    </tr>\n",
       "    <tr>\n",
       "      <th>2075256</th>\n",
       "      <td>26/11/2010</td>\n",
       "      <td>21:01:00</td>\n",
       "      <td>0.934</td>\n",
       "      <td>0.000</td>\n",
       "      <td>239.70</td>\n",
       "      <td>3.8</td>\n",
       "      <td>0.0</td>\n",
       "      <td>0.0</td>\n",
       "      <td>0.0</td>\n",
       "    </tr>\n",
       "    <tr>\n",
       "      <th>2075257</th>\n",
       "      <td>26/11/2010</td>\n",
       "      <td>21:02:00</td>\n",
       "      <td>0.932</td>\n",
       "      <td>0.000</td>\n",
       "      <td>239.55</td>\n",
       "      <td>3.8</td>\n",
       "      <td>0.0</td>\n",
       "      <td>0.0</td>\n",
       "      <td>0.0</td>\n",
       "    </tr>\n",
       "  </tbody>\n",
       "</table>\n",
       "<p>2075258 rows × 9 columns</p>\n",
       "</div>"
      ],
      "text/plain": [
       "               Date      Time  Global_active_power  Global_reactive_power  \\\n",
       "0        16/12/2006  17:25:00                5.360                  0.436   \n",
       "1        16/12/2006  17:26:00                5.374                  0.498   \n",
       "2        16/12/2006  17:27:00                5.388                  0.502   \n",
       "3        16/12/2006  17:28:00                3.666                  0.528   \n",
       "4        16/12/2006  17:29:00                3.520                  0.522   \n",
       "...             ...       ...                  ...                    ...   \n",
       "2075253  26/11/2010  20:58:00                0.946                  0.000   \n",
       "2075254  26/11/2010  20:59:00                0.944                  0.000   \n",
       "2075255  26/11/2010  21:00:00                0.938                  0.000   \n",
       "2075256  26/11/2010  21:01:00                0.934                  0.000   \n",
       "2075257  26/11/2010  21:02:00                0.932                  0.000   \n",
       "\n",
       "         Voltage  Global_intensity  Sub_metering_1  Sub_metering_2  \\\n",
       "0         233.63              23.0             0.0             1.0   \n",
       "1         233.29              23.0             0.0             2.0   \n",
       "2         233.74              23.0             0.0             1.0   \n",
       "3         235.68              15.8             0.0             1.0   \n",
       "4         235.02              15.0             0.0             2.0   \n",
       "...          ...               ...             ...             ...   \n",
       "2075253   240.43               4.0             0.0             0.0   \n",
       "2075254   240.00               4.0             0.0             0.0   \n",
       "2075255   239.82               3.8             0.0             0.0   \n",
       "2075256   239.70               3.8             0.0             0.0   \n",
       "2075257   239.55               3.8             0.0             0.0   \n",
       "\n",
       "         Sub_metering_3  \n",
       "0                  16.0  \n",
       "1                  17.0  \n",
       "2                  17.0  \n",
       "3                  17.0  \n",
       "4                  17.0  \n",
       "...                 ...  \n",
       "2075253             0.0  \n",
       "2075254             0.0  \n",
       "2075255             0.0  \n",
       "2075256             0.0  \n",
       "2075257             0.0  \n",
       "\n",
       "[2075258 rows x 9 columns]"
      ]
     },
     "execution_count": 42,
     "metadata": {},
     "output_type": "execute_result"
    }
   ],
   "source": [
    "df_p = readind_text_pandas(file_path)\n",
    "df_p"
   ]
  },
  {
   "cell_type": "markdown",
   "metadata": {},
   "source": [
    "Importing num_df with genfromtxt"
   ]
  },
  {
   "cell_type": "code",
   "execution_count": 43,
   "metadata": {},
   "outputs": [],
   "source": [
    "def readind_text_numpy(file_path):\n",
    "    types = [(\"Date\", \"U10\"), (\"Time\", \"U8\"), (\"Global_active_power\", \"float64\"), (\"Global_reactive_power\", \"float64\"), (\"Voltage\",  \"float64\"),\n",
    "              (\"Global_intensity\", \"float64\"), (\"Sub_metering_1\", \"float64\"), \n",
    "              (\"Sub_metering_2\", \"float64\"), (\"Sub_metering_3\", \"float64\")]\n",
    "    \n",
    "    headers = ['Date','Time', 'Global_active_power', 'Global_reactive_power', 'Voltage', 'Global_intensity', 'Sub_metering_1', 'Sub_metering_2', 'Sub_metering_3']\n",
    "    num_df = np.genfromtxt(file_path, missing_values=\"?\", delimiter=';', dtype=types, encoding=\"UTF-8\", names=headers, skip_header=1, filling_values=0)\n",
    "\n",
    "    return num_df"
   ]
  },
  {
   "cell_type": "code",
   "execution_count": 44,
   "metadata": {},
   "outputs": [
    {
     "data": {
      "text/plain": [
       "array([('16/12/2006', '17:24:00', 4.216, 0.418, 234.84, 18.4, 0., 1., 17.),\n",
       "       ('16/12/2006', '17:25:00', 5.36 , 0.436, 233.63, 23. , 0., 1., 16.),\n",
       "       ('16/12/2006', '17:26:00', 5.374, 0.498, 233.29, 23. , 0., 2., 17.),\n",
       "       ...,\n",
       "       ('26/11/2010', '21:00:00', 0.938, 0.   , 239.82,  3.8, 0., 0.,  0.),\n",
       "       ('26/11/2010', '21:01:00', 0.934, 0.   , 239.7 ,  3.8, 0., 0.,  0.),\n",
       "       ('26/11/2010', '21:02:00', 0.932, 0.   , 239.55,  3.8, 0., 0.,  0.)],\n",
       "      dtype=[('Date', '<U10'), ('Time', '<U8'), ('Global_active_power', '<f8'), ('Global_reactive_power', '<f8'), ('Voltage', '<f8'), ('Global_intensity', '<f8'), ('Sub_metering_1', '<f8'), ('Sub_metering_2', '<f8'), ('Sub_metering_3', '<f8')])"
      ]
     },
     "execution_count": 44,
     "metadata": {},
     "output_type": "execute_result"
    }
   ],
   "source": [
    "num_df = readind_text_numpy(file_path)\n",
    "num_df"
   ]
  },
  {
   "cell_type": "markdown",
   "metadata": {},
   "source": [
    "### pandas"
   ]
  },
  {
   "cell_type": "code",
   "execution_count": 45,
   "metadata": {},
   "outputs": [
    {
     "data": {
      "text/plain": [
       "Date                         0\n",
       "Time                         0\n",
       "Global_active_power      25979\n",
       "Global_reactive_power    25979\n",
       "Voltage                  25979\n",
       "Global_intensity         25979\n",
       "Sub_metering_1           25979\n",
       "Sub_metering_2           25979\n",
       "Sub_metering_3           25979\n",
       "dtype: int64"
      ]
     },
     "execution_count": 45,
     "metadata": {},
     "output_type": "execute_result"
    }
   ],
   "source": [
    "df_p.isnull().sum()\n",
    "\n",
    "# df_p.dtypes\n"
   ]
  },
  {
   "cell_type": "code",
   "execution_count": 46,
   "metadata": {},
   "outputs": [
    {
     "data": {
      "text/plain": [
       "Date                     datetime64[ns]\n",
       "Time                             object\n",
       "Global_active_power             float64\n",
       "Global_reactive_power           float64\n",
       "Voltage                         float64\n",
       "Global_intensity                float64\n",
       "Sub_metering_1                  float64\n",
       "Sub_metering_2                  float64\n",
       "Sub_metering_3                  float64\n",
       "dtype: object"
      ]
     },
     "execution_count": 46,
     "metadata": {},
     "output_type": "execute_result"
    }
   ],
   "source": [
    "df_p['Date'] = pd.to_datetime(df_p['Date'], format = \"%d/%m/%Y\")\n",
    "# df_p['Time'] = pd.to_datetime(df_p['Time'], format='%H:%M:%S').dt.time\n",
    "df_p['Time'] = pd.to_datetime(df_p['Time'], format='%H:%M:%S').dt.time\n",
    "# df_p = df_p.astype({'Global_reactive_power': 'float'})\n",
    "df_p.dtypes"
   ]
  },
  {
   "cell_type": "code",
   "execution_count": 47,
   "metadata": {},
   "outputs": [
    {
     "name": "stdout",
     "output_type": "stream",
     "text": [
      "Global_active_power\n",
      "Global_reactive_power\n",
      "Voltage\n",
      "Global_intensity\n",
      "Sub_metering_1\n",
      "Sub_metering_2\n",
      "Sub_metering_3\n"
     ]
    },
    {
     "data": {
      "text/plain": [
       "Date                     0\n",
       "Time                     0\n",
       "Global_active_power      0\n",
       "Global_reactive_power    0\n",
       "Voltage                  0\n",
       "Global_intensity         0\n",
       "Sub_metering_1           0\n",
       "Sub_metering_2           0\n",
       "Sub_metering_3           0\n",
       "dtype: int64"
      ]
     },
     "execution_count": 47,
     "metadata": {},
     "output_type": "execute_result"
    }
   ],
   "source": [
    "\n",
    "# df_p['Global_active_power'] = df_p['Global_active_power'].fillna(df_p.groupby('Date')['Global_active_power'].transform('median'))\n",
    "\n",
    "\n",
    "# df_p['Global_reactive_power'] = df_p['Global_reactive_power'].fillna(df_p.groupby('Date')['Global_reactive_power'].transform('median'))\n",
    "\n",
    "# df_p['Global_reactive_power'] = pd.to_numeric(df_p['Global_reactive_power'])\n",
    "# df_p['Global_reactive_power'] = df_p['Global_reactive_power'].fillna(df_p.groupby('Date')['Global_reactive_power'].transform('median'))\n",
    "\n",
    "name_col = df_p.columns.values\n",
    "names = name_col.tolist()\n",
    "names_arr = names[2:]\n",
    "\n",
    "for column in names_arr:\n",
    "    df_p[column] = df_p[column].fillna(df_p[column].median())\n",
    "    print(column)\n",
    "\n",
    "df_p.isnull().sum()\n"
   ]
  },
  {
   "cell_type": "code",
   "execution_count": 48,
   "metadata": {},
   "outputs": [
    {
     "name": "stdout",
     "output_type": "stream",
     "text": [
      "['Global_active_power', 'Global_reactive_power', 'Voltage', 'Global_intensity', 'Sub_metering_1', 'Sub_metering_2', 'Sub_metering_3']\n",
      "2075258\n",
      "2075258\n"
     ]
    }
   ],
   "source": [
    "name_col = df_p.columns.values\n",
    "\n",
    "name = name_col.tolist()\n",
    "names = name[2:]\n",
    "a = df_p.shape[0]\n",
    "b = len(df_p)\n",
    "print(names)\n",
    "print(a)\n",
    "print(b)"
   ]
  },
  {
   "cell_type": "markdown",
   "metadata": {},
   "source": [
    "### Select all records with a total active power consumption is more than 5 kW."
   ]
  },
  {
   "cell_type": "code",
   "execution_count": 49,
   "metadata": {},
   "outputs": [],
   "source": [
    "def active_more_than(a:float):\n",
    "    df_active = df_p[df_p['Global_active_power'] > a]['Global_active_power']\n",
    "    print(df_active)\n",
    "    print(df_active.shape[0])"
   ]
  },
  {
   "cell_type": "code",
   "execution_count": 50,
   "metadata": {},
   "outputs": [
    {
     "name": "stdout",
     "output_type": "stream",
     "text": [
      "0          5.360\n",
      "1          5.374\n",
      "2          5.388\n",
      "10         5.412\n",
      "11         5.224\n",
      "           ...  \n",
      "2069355    5.408\n",
      "2069356    5.528\n",
      "2071585    5.172\n",
      "2071586    5.750\n",
      "2072996    5.074\n",
      "Name: Global_active_power, Length: 17547, dtype: float64\n",
      "17547\n"
     ]
    }
   ],
   "source": [
    "active_more_than(5)"
   ]
  },
  {
   "cell_type": "code",
   "execution_count": 51,
   "metadata": {},
   "outputs": [],
   "source": [
    "def active_more_than_n(a:float):\n",
    "    return num_df[num_df['Global_active_power'] > a]['Global_active_power']"
   ]
  },
  {
   "cell_type": "code",
   "execution_count": 52,
   "metadata": {},
   "outputs": [
    {
     "data": {
      "text/plain": [
       "array([5.36 , 5.374, 5.388, ..., 5.172, 5.75 , 5.074])"
      ]
     },
     "execution_count": 52,
     "metadata": {},
     "output_type": "execute_result"
    }
   ],
   "source": [
    "active_more_than_n(5)"
   ]
  },
  {
   "cell_type": "markdown",
   "metadata": {},
   "source": [
    "### Select all records with a voltage higher than 235 V."
   ]
  },
  {
   "cell_type": "code",
   "execution_count": 53,
   "metadata": {},
   "outputs": [],
   "source": [
    "def voltage_higher(a:float):\n",
    "    df_volt = df_p[df_p['Voltage'] > a]['Voltage']\n",
    "    print(df_volt)\n",
    "    print(df_volt.shape[0])"
   ]
  },
  {
   "cell_type": "code",
   "execution_count": 54,
   "metadata": {},
   "outputs": [
    {
     "name": "stdout",
     "output_type": "stream",
     "text": [
      "3          235.68\n",
      "4          235.02\n",
      "5          235.09\n",
      "6          235.22\n",
      "13         235.24\n",
      "            ...  \n",
      "2075253    240.43\n",
      "2075254    240.00\n",
      "2075255    239.82\n",
      "2075256    239.70\n",
      "2075257    239.55\n",
      "Name: Voltage, Length: 1978470, dtype: float64\n",
      "1978470\n"
     ]
    }
   ],
   "source": [
    "voltage_higher(235)"
   ]
  },
  {
   "cell_type": "code",
   "execution_count": 55,
   "metadata": {},
   "outputs": [],
   "source": [
    "def voltage_higher_n(a:float):\n",
    "    return num_df[num_df['Voltage'] > a]['Voltage']"
   ]
  },
  {
   "cell_type": "code",
   "execution_count": 56,
   "metadata": {},
   "outputs": [
    {
     "data": {
      "text/plain": [
       "array([235.68, 235.02, 235.09, ..., 239.82, 239.7 , 239.55])"
      ]
     },
     "execution_count": 56,
     "metadata": {},
     "output_type": "execute_result"
    }
   ],
   "source": [
    "voltage_higher_n(235)"
   ]
  },
  {
   "cell_type": "markdown",
   "metadata": {},
   "source": [
    "### Select all the records with a current consumption of 19-20 A, and identify those where the washing machine and refrigerators consume more than the boiler and air conditioner."
   ]
  },
  {
   "cell_type": "code",
   "execution_count": 57,
   "metadata": {},
   "outputs": [],
   "source": [
    "def function_3():\n",
    "    df_f3 = df_p[(df_p['Global_intensity'] > 19) & (df_p['Global_intensity'] < 20)]\n",
    "    # print(df_f3)\n",
    "    # print(df_f3.shape[0])\n",
    "\n",
    "    df_f3_one_more = df_f3[df_f3['Sub_metering_2'] > df_f3['Sub_metering_3']][['Sub_metering_2', 'Sub_metering_3', 'Global_intensity']]\n",
    "\n",
    "    print(df_f3_one_more)\n",
    "    print(df_f3_one_more.shape[0])\n"
   ]
  },
  {
   "cell_type": "code",
   "execution_count": 58,
   "metadata": {},
   "outputs": [
    {
     "name": "stdout",
     "output_type": "stream",
     "text": [
      "         Sub_metering_2  Sub_metering_3  Global_intensity\n",
      "459                13.0             0.0              19.6\n",
      "463                27.0             0.0              19.6\n",
      "474                36.0             0.0              19.4\n",
      "475                35.0             0.0              19.4\n",
      "476                36.0             0.0              19.4\n",
      "...                 ...             ...               ...\n",
      "2071587            38.0            16.0              19.6\n",
      "2071588            39.0            17.0              19.8\n",
      "2071589            39.0            18.0              19.8\n",
      "2071590            40.0            17.0              19.4\n",
      "2071592            39.0            17.0              19.4\n",
      "\n",
      "[1678 rows x 3 columns]\n",
      "1678\n"
     ]
    }
   ],
   "source": [
    "function_3()"
   ]
  },
  {
   "cell_type": "code",
   "execution_count": 59,
   "metadata": {},
   "outputs": [],
   "source": [
    "def function_3_n():\n",
    "    num_df_f3 = num_df[(num_df['Global_intensity'] > 19) & (num_df['Global_intensity'] < 20)]\n",
    "\n",
    "    df_f3_one_more = num_df_f3[num_df_f3['Sub_metering_2'] > num_df_f3['Sub_metering_3']][['Sub_metering_2', 'Sub_metering_3', 'Global_intensity']]\n",
    "\n",
    "    return df_f3_one_more\n"
   ]
  },
  {
   "cell_type": "code",
   "execution_count": 60,
   "metadata": {},
   "outputs": [
    {
     "data": {
      "text/plain": [
       "array([(13.,  0., 19.6), (27.,  0., 19.6), (36.,  0., 19.4), ...,\n",
       "       (39., 18., 19.8), (40., 17., 19.4), (39., 17., 19.4)],\n",
       "      dtype={'names': ['Sub_metering_2', 'Sub_metering_3', 'Global_intensity'], 'formats': ['<f8', '<f8', '<f8'], 'offsets': [112, 120, 96], 'itemsize': 128})"
      ]
     },
     "execution_count": 60,
     "metadata": {},
     "output_type": "execute_result"
    }
   ],
   "source": [
    "function_3_n()"
   ]
  },
  {
   "cell_type": "markdown",
   "metadata": {},
   "source": [
    "### Randomly select 500,000 records (without duplicate sample items) and calculate the average values of all 3 groups electricity consumption"
   ]
  },
  {
   "cell_type": "code",
   "execution_count": 61,
   "metadata": {},
   "outputs": [],
   "source": [
    "def function_4(a:int):\n",
    "    \n",
    "    df_p4 = df_p.sample(n=a, replace=False)\n",
    "    # print(df_p4)\n",
    "\n",
    "    mean_v1 = df_p4['Sub_metering_1'].mean()\n",
    "    mean_v2 = df_p4['Sub_metering_2'].mean()\n",
    "    mean_v3 = df_p4['Sub_metering_3'].mean()\n",
    "\n",
    "\n",
    "    return(f'Mean for Sub_metering_1: {mean_v1}, for Sub_metering_2: {mean_v2}, for Sub_metering_3: {mean_v3}')"
   ]
  },
  {
   "cell_type": "code",
   "execution_count": 62,
   "metadata": {},
   "outputs": [
    {
     "data": {
      "text/plain": [
       "'Mean for Sub_metering_1: 1.1202, for Sub_metering_2: 1.404, for Sub_metering_3: 6.339'"
      ]
     },
     "execution_count": 62,
     "metadata": {},
     "output_type": "execute_result"
    }
   ],
   "source": [
    "function_4(5000)"
   ]
  },
  {
   "cell_type": "code",
   "execution_count": 63,
   "metadata": {},
   "outputs": [],
   "source": [
    "def function_4_n(a:int):\n",
    "\n",
    "    n_arr = np.random.choice(len(num_df), a, replace=False)\n",
    "    \n",
    "    sampled_num_df = num_df[n_arr]\n",
    "    \n",
    "    mean_v1 = np.mean(sampled_num_df['Sub_metering_1'])\n",
    "    mean_v2 = np.mean(sampled_num_df['Sub_metering_2'])\n",
    "    mean_v3 = np.mean(sampled_num_df['Sub_metering_3'])\n",
    "\n",
    "    # print(np.isnan(num_df['Sub_metering_1']))\n",
    "    return f'Mean for Sub_metering_1: {mean_v1}, for Sub_metering_2: {mean_v2}, for Sub_metering_3: {mean_v3}'\n"
   ]
  },
  {
   "cell_type": "code",
   "execution_count": 64,
   "metadata": {},
   "outputs": [
    {
     "data": {
      "text/plain": [
       "'Mean for Sub_metering_1: 1.12188, for Sub_metering_2: 1.282448, for Sub_metering_3: 6.374922'"
      ]
     },
     "execution_count": 64,
     "metadata": {},
     "output_type": "execute_result"
    }
   ],
   "source": [
    "function_4_n(500_000)"
   ]
  },
  {
   "cell_type": "markdown",
   "metadata": {},
   "source": [
    "### Select those records that after 18:00 consume more than 6 kW per minute on average, among the selected records identify those in which the main electricity consumption in the specified period of time is accounted for by the washing machine, dryer, refrigerator and lighting (group 2 is the largest), and then select every third result from the first half and every fourth result from the second half."
   ]
  },
  {
   "cell_type": "code",
   "execution_count": 65,
   "metadata": {},
   "outputs": [],
   "source": [
    "def function_5():\n",
    "    df_p5 = df_p[(df_p['Time'] > pd.to_datetime('18:00:00').time()) & (df_p['Global_active_power'] > 6) & \n",
    "                 (df_p['Sub_metering_2'] > df_p['Sub_metering_3']) & (df_p['Sub_metering_2'] > df_p['Sub_metering_1'])]\n",
    "    count = df_p5.shape[0] //2\n",
    "    count_df = df_p5.sample(frac=1).reset_index(drop=True)\n",
    "    df_p5_1 = count_df.iloc[:count]\n",
    "    df_p5_2 = count_df.iloc[count:]\n",
    "\n",
    "    df_p5_1 = df_p5_1.iloc[::3]\n",
    "    df_p5_2 = df_p5_2.iloc[::4]\n",
    "\n",
    "\n",
    "    return pd.concat([df_p5_1, df_p5_2])"
   ]
  },
  {
   "cell_type": "code",
   "execution_count": 66,
   "metadata": {},
   "outputs": [
    {
     "data": {
      "text/html": [
       "<div>\n",
       "<style scoped>\n",
       "    .dataframe tbody tr th:only-of-type {\n",
       "        vertical-align: middle;\n",
       "    }\n",
       "\n",
       "    .dataframe tbody tr th {\n",
       "        vertical-align: top;\n",
       "    }\n",
       "\n",
       "    .dataframe thead th {\n",
       "        text-align: right;\n",
       "    }\n",
       "</style>\n",
       "<table border=\"1\" class=\"dataframe\">\n",
       "  <thead>\n",
       "    <tr style=\"text-align: right;\">\n",
       "      <th></th>\n",
       "      <th>Date</th>\n",
       "      <th>Time</th>\n",
       "      <th>Global_active_power</th>\n",
       "      <th>Global_reactive_power</th>\n",
       "      <th>Voltage</th>\n",
       "      <th>Global_intensity</th>\n",
       "      <th>Sub_metering_1</th>\n",
       "      <th>Sub_metering_2</th>\n",
       "      <th>Sub_metering_3</th>\n",
       "    </tr>\n",
       "  </thead>\n",
       "  <tbody>\n",
       "    <tr>\n",
       "      <th>0</th>\n",
       "      <td>2009-12-14</td>\n",
       "      <td>18:44:00</td>\n",
       "      <td>6.642</td>\n",
       "      <td>0.540</td>\n",
       "      <td>237.37</td>\n",
       "      <td>28.0</td>\n",
       "      <td>0.0</td>\n",
       "      <td>38.0</td>\n",
       "      <td>18.0</td>\n",
       "    </tr>\n",
       "    <tr>\n",
       "      <th>3</th>\n",
       "      <td>2010-01-23</td>\n",
       "      <td>18:04:00</td>\n",
       "      <td>6.424</td>\n",
       "      <td>0.066</td>\n",
       "      <td>232.89</td>\n",
       "      <td>27.4</td>\n",
       "      <td>0.0</td>\n",
       "      <td>69.0</td>\n",
       "      <td>1.0</td>\n",
       "    </tr>\n",
       "    <tr>\n",
       "      <th>6</th>\n",
       "      <td>2008-11-04</td>\n",
       "      <td>20:44:00</td>\n",
       "      <td>7.682</td>\n",
       "      <td>0.440</td>\n",
       "      <td>231.94</td>\n",
       "      <td>33.0</td>\n",
       "      <td>0.0</td>\n",
       "      <td>72.0</td>\n",
       "      <td>16.0</td>\n",
       "    </tr>\n",
       "    <tr>\n",
       "      <th>9</th>\n",
       "      <td>2007-01-21</td>\n",
       "      <td>19:32:00</td>\n",
       "      <td>7.948</td>\n",
       "      <td>0.354</td>\n",
       "      <td>224.68</td>\n",
       "      <td>35.4</td>\n",
       "      <td>0.0</td>\n",
       "      <td>67.0</td>\n",
       "      <td>15.0</td>\n",
       "    </tr>\n",
       "    <tr>\n",
       "      <th>12</th>\n",
       "      <td>2009-01-10</td>\n",
       "      <td>19:58:00</td>\n",
       "      <td>8.680</td>\n",
       "      <td>0.000</td>\n",
       "      <td>231.86</td>\n",
       "      <td>37.4</td>\n",
       "      <td>36.0</td>\n",
       "      <td>71.0</td>\n",
       "      <td>16.0</td>\n",
       "    </tr>\n",
       "    <tr>\n",
       "      <th>...</th>\n",
       "      <td>...</td>\n",
       "      <td>...</td>\n",
       "      <td>...</td>\n",
       "      <td>...</td>\n",
       "      <td>...</td>\n",
       "      <td>...</td>\n",
       "      <td>...</td>\n",
       "      <td>...</td>\n",
       "      <td>...</td>\n",
       "    </tr>\n",
       "    <tr>\n",
       "      <th>1041</th>\n",
       "      <td>2010-11-20</td>\n",
       "      <td>18:35:00</td>\n",
       "      <td>6.784</td>\n",
       "      <td>0.364</td>\n",
       "      <td>228.38</td>\n",
       "      <td>30.0</td>\n",
       "      <td>21.0</td>\n",
       "      <td>35.0</td>\n",
       "      <td>16.0</td>\n",
       "    </tr>\n",
       "    <tr>\n",
       "      <th>1045</th>\n",
       "      <td>2007-03-04</td>\n",
       "      <td>19:34:00</td>\n",
       "      <td>10.670</td>\n",
       "      <td>0.516</td>\n",
       "      <td>230.20</td>\n",
       "      <td>46.4</td>\n",
       "      <td>37.0</td>\n",
       "      <td>69.0</td>\n",
       "      <td>16.0</td>\n",
       "    </tr>\n",
       "    <tr>\n",
       "      <th>1049</th>\n",
       "      <td>2010-01-23</td>\n",
       "      <td>18:09:00</td>\n",
       "      <td>6.920</td>\n",
       "      <td>0.210</td>\n",
       "      <td>232.68</td>\n",
       "      <td>29.6</td>\n",
       "      <td>0.0</td>\n",
       "      <td>71.0</td>\n",
       "      <td>1.0</td>\n",
       "    </tr>\n",
       "    <tr>\n",
       "      <th>1053</th>\n",
       "      <td>2010-03-07</td>\n",
       "      <td>18:15:00</td>\n",
       "      <td>6.554</td>\n",
       "      <td>0.324</td>\n",
       "      <td>234.20</td>\n",
       "      <td>28.4</td>\n",
       "      <td>0.0</td>\n",
       "      <td>71.0</td>\n",
       "      <td>1.0</td>\n",
       "    </tr>\n",
       "    <tr>\n",
       "      <th>1057</th>\n",
       "      <td>2007-12-22</td>\n",
       "      <td>20:54:00</td>\n",
       "      <td>6.988</td>\n",
       "      <td>0.372</td>\n",
       "      <td>234.78</td>\n",
       "      <td>30.0</td>\n",
       "      <td>11.0</td>\n",
       "      <td>36.0</td>\n",
       "      <td>0.0</td>\n",
       "    </tr>\n",
       "  </tbody>\n",
       "</table>\n",
       "<p>310 rows × 9 columns</p>\n",
       "</div>"
      ],
      "text/plain": [
       "           Date      Time  Global_active_power  Global_reactive_power  \\\n",
       "0    2009-12-14  18:44:00                6.642                  0.540   \n",
       "3    2010-01-23  18:04:00                6.424                  0.066   \n",
       "6    2008-11-04  20:44:00                7.682                  0.440   \n",
       "9    2007-01-21  19:32:00                7.948                  0.354   \n",
       "12   2009-01-10  19:58:00                8.680                  0.000   \n",
       "...         ...       ...                  ...                    ...   \n",
       "1041 2010-11-20  18:35:00                6.784                  0.364   \n",
       "1045 2007-03-04  19:34:00               10.670                  0.516   \n",
       "1049 2010-01-23  18:09:00                6.920                  0.210   \n",
       "1053 2010-03-07  18:15:00                6.554                  0.324   \n",
       "1057 2007-12-22  20:54:00                6.988                  0.372   \n",
       "\n",
       "      Voltage  Global_intensity  Sub_metering_1  Sub_metering_2  \\\n",
       "0      237.37              28.0             0.0            38.0   \n",
       "3      232.89              27.4             0.0            69.0   \n",
       "6      231.94              33.0             0.0            72.0   \n",
       "9      224.68              35.4             0.0            67.0   \n",
       "12     231.86              37.4            36.0            71.0   \n",
       "...       ...               ...             ...             ...   \n",
       "1041   228.38              30.0            21.0            35.0   \n",
       "1045   230.20              46.4            37.0            69.0   \n",
       "1049   232.68              29.6             0.0            71.0   \n",
       "1053   234.20              28.4             0.0            71.0   \n",
       "1057   234.78              30.0            11.0            36.0   \n",
       "\n",
       "      Sub_metering_3  \n",
       "0               18.0  \n",
       "3                1.0  \n",
       "6               16.0  \n",
       "9               15.0  \n",
       "12              16.0  \n",
       "...              ...  \n",
       "1041            16.0  \n",
       "1045            16.0  \n",
       "1049             1.0  \n",
       "1053             1.0  \n",
       "1057             0.0  \n",
       "\n",
       "[310 rows x 9 columns]"
      ]
     },
     "execution_count": 66,
     "metadata": {},
     "output_type": "execute_result"
    }
   ],
   "source": [
    "function_5()"
   ]
  },
  {
   "cell_type": "code",
   "execution_count": 67,
   "metadata": {},
   "outputs": [],
   "source": [
    "def function_5_n():\n",
    "\n",
    "    num_2 = num_df[\n",
    "        (num_df['Time'] > '18:00:00') &\n",
    "        (num_df['Global_active_power'] > 6) &\n",
    "        (num_df['Sub_metering_2'] > num_df['Sub_metering_3']) &\n",
    "        (num_df['Sub_metering_2'] > num_df['Sub_metering_1'])]\n",
    "\n",
    "    count = len(num_2) //2\n",
    "\n",
    "    count_i = np.random.permutation(len(num_2))\n",
    "    count_df = num_2[count_i]\n",
    "\n",
    "    df_p5_1 = count_df[:count]\n",
    "    df_p5_2 = count_df[count:]\n",
    "\n",
    "    df_p5_1 = df_p5_1[::3]\n",
    "    df_p5_2 = df_p5_2[::4]\n",
    "\n",
    "    return np.concatenate([df_p5_1, df_p5_2])"
   ]
  },
  {
   "cell_type": "code",
   "execution_count": 68,
   "metadata": {},
   "outputs": [
    {
     "data": {
      "text/plain": [
       "array([('23/1/2010', '18:12:00',  6.994, 0.234, 233.12, 30. ,  0., 71.,  1.),\n",
       "       ('17/6/2007', '18:12:00',  6.238, 0.372, 235.93, 26.4,  0., 33., 17.),\n",
       "       ('7/1/2007', '18:09:00',  6.326, 0.15 , 231.77, 27.6,  0., 62., 17.),\n",
       "       ('28/12/2006', '21:21:00',  7.124, 0.148, 234.33, 30.4, 37., 38., 17.),\n",
       "       ('10/1/2009', '19:53:00',  6.72 , 0.154, 233.98, 28.6,  0., 72., 17.),\n",
       "       ('20/1/2007', '19:15:00',  6.252, 0.414, 229.16, 27.2,  0., 35., 16.),\n",
       "       ('22/2/2007', '21:45:00',  6.288, 0.114, 230.22, 27.2,  1., 30., 16.),\n",
       "       ('13/3/2008', '20:43:00',  6.71 , 0.08 , 229.71, 29.6, 16., 34., 16.),\n",
       "       ('15/2/2007', '19:51:00',  6.408, 0.46 , 234.07, 27.6,  0., 36., 17.),\n",
       "       ('13/10/2007', '20:09:00',  6.254, 0.124, 232.24, 26.8,  0., 35., 16.),\n",
       "       ('4/11/2008', '20:53:00',  6.426, 0.244, 233.21, 28. ,  0., 60., 17.),\n",
       "       ('3/6/2007', '22:01:00',  6.226, 0.188, 228.46, 27.2,  0., 70.,  0.),\n",
       "       ('3/5/2009', '20:29:00',  7.856, 0.128, 234.02, 33.6,  2., 34., 21.),\n",
       "       ('3/6/2007', '21:58:00',  6.184, 0.226, 229.09, 27. ,  0., 70.,  0.),\n",
       "       ('7/1/2007', '18:35:00',  7.208, 0.3  , 227.85, 31.6,  0., 35., 16.),\n",
       "       ('22/12/2007', '20:55:00',  6.538, 0.376, 235.43, 27.8,  0., 36.,  0.),\n",
       "       ('30/11/2008', '20:20:00',  8.556, 0.06 , 234.09, 36.8, 36., 54., 17.),\n",
       "       ('20/11/2010', '18:37:00',  6.31 , 0.412, 229.89, 27.8, 15., 35., 16.),\n",
       "       ('4/11/2008', '18:54:00',  7.242, 0.194, 227.78, 31.8,  0., 69.,  0.),\n",
       "       ('20/2/2007', '20:26:00',  6.756, 0.084, 234.93, 29. ,  0., 64., 17.),\n",
       "       ('20/11/2010', '18:28:00',  6.882, 0.186, 229.77, 30.4, 30., 35., 16.),\n",
       "       ('5/4/2007', '20:46:00',  6.164, 0.242, 234.26, 26.4,  1., 37., 17.),\n",
       "       ('12/10/2008', '20:17:00',  7.654, 0.192, 229.87, 33.2,  0., 70., 17.),\n",
       "       ('15/2/2007', '19:35:00',  6.926, 0.6  , 233.35, 29.8,  0., 36., 17.),\n",
       "       ('28/12/2006', '21:17:00',  7.04 , 0.13 , 233.27, 30.2, 37., 38., 17.),\n",
       "       ('21/1/2007', '19:25:00',  7.532, 0.25 , 225.25, 33.4,  0., 67., 16.),\n",
       "       ('22/2/2009', '20:06:00',  6.868, 0.108, 236.4 , 29. ,  0., 73., 17.),\n",
       "       ('16/4/2007', '21:28:00',  6.026, 0.22 , 236.4 , 25.4,  1., 40., 17.),\n",
       "       ('22/2/2007', '19:34:00',  6.16 , 0.08 , 232.71, 26.4,  0., 36., 16.),\n",
       "       ('30/12/2009', '19:26:00',  6.154, 0.484, 237.53, 26. ,  0., 74.,  1.),\n",
       "       ('4/3/2007', '19:44:00',  6.312, 0.144, 231.98, 27.2,  0., 71., 16.),\n",
       "       ('29/12/2006', '21:25:00',  6.086, 0.   , 229.04, 26.6,  0., 69.,  0.),\n",
       "       ('1/4/2007', '18:45:00',  6.162, 0.284, 234.09, 26.2,  0., 73., 17.),\n",
       "       ('4/3/2007', '21:29:00',  6.854, 0.   , 233.34, 29.2,  0., 71., 16.),\n",
       "       ('20/2/2007', '20:36:00',  6.956, 0.182, 231.43, 30. ,  0., 71., 16.),\n",
       "       ('15/11/2009', '18:46:00',  6.926, 0.37 , 230.64, 30. ,  0., 69., 17.),\n",
       "       ('22/2/2009', '21:01:00',  6.744, 0.392, 237.39, 28.4,  1., 73.,  0.),\n",
       "       ('5/3/2007', '19:25:00',  6.612, 0.424, 234.32, 28.6, 26., 35.,  0.),\n",
       "       ('23/1/2010', '18:34:00',  6.238, 0.602, 233.61, 26.8,  0., 35., 28.),\n",
       "       ('2/2/2008', '19:44:00',  6.052, 0.56 , 230.1 , 26.4,  1., 35., 16.),\n",
       "       ('22/2/2009', '21:16:00',  7.306, 0.294, 233.69, 31.4, 37., 49.,  0.),\n",
       "       ('13/10/2007', '20:06:00',  6.388, 0.262, 231.98, 27.6,  0., 34., 16.),\n",
       "       ('30/11/2008', '20:12:00',  7.852, 0.   , 233.07, 33.6,  1., 71., 16.),\n",
       "       ('3/4/2007', '19:34:00',  6.552, 0.314, 232.73, 28.4, 14., 37., 16.),\n",
       "       ('8/6/2008', '21:49:00',  6.838, 0.05 , 235.1 , 29. ,  0., 73., 18.),\n",
       "       ('23/11/2008', '18:44:00',  6.582, 0.186, 232.4 , 28.6,  0., 20., 17.),\n",
       "       ('19/2/2007', '19:52:00',  6.04 , 0.28 , 230.41, 26.4,  0., 34., 16.),\n",
       "       ('17/6/2007', '18:10:00',  6.436, 0.496, 235.47, 27.4,  0., 35., 17.),\n",
       "       ('20/4/2008', '21:03:00',  7.798, 0.328, 231.76, 33.6,  1., 71., 17.),\n",
       "       ('22/2/2007', '19:33:00',  6.178, 0.166, 231.73, 26.6,  0., 36., 17.),\n",
       "       ('9/12/2007', '19:17:00',  6.29 , 0.312, 230.31, 27.2,  0., 34., 16.),\n",
       "       ('15/1/2010', '20:52:00',  7.77 , 0.274, 236.08, 33. , 10., 73., 18.),\n",
       "       ('12/4/2008', '18:19:00',  6.568, 0.394, 237.7 , 27.6, 34., 36., 18.),\n",
       "       ('23/12/2007', '19:36:00',  6.094, 0.64 , 233.53, 26.2,  1., 37., 16.),\n",
       "       ('20/11/2010', '18:34:00',  6.266, 0.36 , 229.82, 27.6, 14., 35., 16.),\n",
       "       ('31/3/2009', '20:42:00',  6.158, 0.   , 236.02, 26.2,  0., 67., 17.),\n",
       "       ('22/12/2007', '21:03:00',  7.486, 0.386, 234.43, 32. ,  1., 37., 17.),\n",
       "       ('3/6/2008', '22:51:00',  6.114, 0.194, 232.04, 26.2,  1., 72.,  0.),\n",
       "       ('2/7/2007', '20:35:00',  6.39 , 0.436, 235.11, 27.2,  0., 70.,  0.),\n",
       "       ('22/2/2007', '21:16:00',  7.79 , 0.   , 227.04, 34.6, 35., 43., 16.),\n",
       "       ('17/4/2009', '20:52:00',  6.914, 0.092, 235.26, 29.4,  0., 72., 18.),\n",
       "       ('13/10/2007', '19:57:00',  6.188, 0.334, 231.54, 26.8,  0., 34., 17.),\n",
       "       ('1/1/2009', '20:51:00',  6.132, 0.18 , 238.56, 26.2,  0., 42.,  0.),\n",
       "       ('20/2/2008', '19:53:00',  6.028, 0.274, 238.34, 26.8, 21., 27.,  0.),\n",
       "       ('15/2/2007', '19:45:00',  6.688, 0.432, 233.  , 28.8,  0., 36., 17.),\n",
       "       ('29/12/2006', '21:29:00',  6.66 , 0.   , 229.  , 29. ,  0., 69., 17.),\n",
       "       ('23/11/2008', '18:41:00',  6.744, 0.272, 232.09, 29.2,  0., 27., 16.),\n",
       "       ('24/11/2009', '19:41:00',  9.042, 0.378, 233.28, 39. , 36., 55., 18.),\n",
       "       ('15/1/2010', '20:45:00',  6.212, 0.296, 238.69, 26.2,  8., 36., 19.),\n",
       "       ('29/12/2006', '22:28:00',  6.3  , 0.294, 236.08, 26.8,  0., 65., 17.),\n",
       "       ('20/11/2010', '18:33:00',  6.262, 0.382, 229.72, 27.6, 13., 35., 16.),\n",
       "       ('17/3/2009', '20:25:00',  7.88 , 0.   , 236.8 , 33.2,  0., 72., 17.),\n",
       "       ('29/12/2006', '21:17:00',  6.18 , 0.136, 231.12, 26.6,  0., 70.,  0.),\n",
       "       ('18/5/2008', '20:34:00',  7.34 , 0.18 , 233.02, 31.4,  1., 71., 24.),\n",
       "       ('29/12/2006', '22:32:00',  6.382, 0.268, 234.84, 27.2,  0., 73., 17.),\n",
       "       ('23/11/2008', '21:02:00',  6.278, 0.248, 235.08, 26.8,  1., 22., 17.),\n",
       "       ('18/1/2009', '20:00:00',  6.23 , 0.232, 232.37, 26.8,  0., 37., 17.),\n",
       "       ('12/10/2008', '19:33:00',  6.082, 0.47 , 232.84, 26.4,  0., 37., 18.),\n",
       "       ('22/1/2007', '20:24:00',  7.696, 0.208, 231.3 , 33.2,  0., 70., 16.),\n",
       "       ('27/3/2010', '18:34:00',  6.618, 0.27 , 234.15, 28.2,  0., 71., 18.),\n",
       "       ('8/3/2007', '20:29:00',  6.354, 0.102, 235.  , 27. ,  0., 36., 18.),\n",
       "       ('29/12/2006', '22:27:00',  6.976, 0.376, 235.12, 29.6,  0., 74., 17.),\n",
       "       ('20/11/2010', '18:31:00',  6.83 , 0.394, 229.39, 30.2, 24., 34., 16.),\n",
       "       ('30/1/2010', '18:18:00',  6.918, 0.21 , 233.59, 29.6,  1., 71., 17.),\n",
       "       ('23/11/2008', '18:09:00',  7.586, 0.37 , 230.55, 32.8,  0., 35., 16.),\n",
       "       ('17/4/2009', '20:44:00',  6.79 , 0.21 , 237.03, 28.6,  0., 72., 18.),\n",
       "       ('28/12/2006', '21:01:00',  7.062, 0.27 , 235.76, 30.2,  2., 65., 17.),\n",
       "       ('6/3/2007', '20:55:00',  6.508, 0.124, 234.85, 27.6,  0., 38., 17.),\n",
       "       ('23/11/2008', '20:30:00',  7.102, 0.172, 230.7 , 30.8,  1., 35., 16.),\n",
       "       ('15/2/2007', '19:37:00',  6.906, 0.608, 233.8 , 29.6,  0., 37., 17.),\n",
       "       ('22/2/2007', '21:38:00',  6.55 , 0.172, 229.38, 28.4,  2., 34., 16.),\n",
       "       ('9/12/2007', '19:06:00',  6.232, 0.176, 230.79, 27. ,  0., 34., 17.),\n",
       "       ('20/11/2010', '18:24:00',  9.63 , 0.058, 225.32, 42.8, 43., 66., 15.),\n",
       "       ('26/9/2007', '21:23:00',  7.03 , 0.332, 231.8 , 30.4,  0., 35., 16.),\n",
       "       ('4/3/2007', '19:35:00',  9.922, 0.414, 230.17, 43.2, 34., 70., 16.),\n",
       "       ('29/12/2006', '21:16:00',  6.146, 0.116, 230.53, 26.6,  0., 70.,  0.),\n",
       "       ('23/3/2008', '20:28:00',  7.268, 0.192, 233.61, 31. ,  0., 72., 17.),\n",
       "       ('1/4/2007', '18:48:00',  6.054, 0.262, 232.81, 26. ,  1., 71., 16.),\n",
       "       ('4/3/2007', '19:42:00',  6.378, 0.15 , 233.2 , 27.2,  0., 71., 17.),\n",
       "       ('27/3/2010', '18:42:00',  6.73 , 0.176, 231.96, 29. ,  0., 70., 22.),\n",
       "       ('15/1/2010', '20:47:00',  6.378, 0.36 , 238.9 , 27. ,  9., 37., 18.),\n",
       "       ('29/12/2006', '21:20:00',  6.424, 0.116, 229.89, 27.8,  0., 69.,  0.),\n",
       "       ('23/11/2008', '18:13:00',  7.624, 0.474, 229.83, 33.2,  0., 36., 16.),\n",
       "       ('17/3/2009', '20:26:00',  7.204, 0.112, 237.05, 30.4,  0., 58., 18.),\n",
       "       ('4/11/2008', '20:52:00',  7.298, 0.222, 231.91, 31.4,  0., 72., 17.),\n",
       "       ('1/4/2007', '18:50:00',  6.274, 0.26 , 233.03, 26.8,  1., 71., 16.),\n",
       "       ('4/11/2008', '20:48:00',  7.816, 0.274, 231.91, 33.6,  0., 72., 17.),\n",
       "       ('20/11/2010', '18:22:00',  9.724, 0.062, 226.47, 43. , 43., 67., 16.),\n",
       "       ('9/1/2007', '20:55:00',  7.654, 0.158, 233.82, 32.6,  0., 72., 17.),\n",
       "       ('23/1/2010', '18:30:00',  6.166, 0.432, 234.18, 26.4,  0., 36., 20.),\n",
       "       ('22/2/2009', '20:13:00',  6.706, 0.15 , 235.93, 28.4,  0., 72., 17.),\n",
       "       ('22/2/2007', '19:35:00',  6.02 , 0.078, 233.27, 25.8,  0., 36., 17.),\n",
       "       ('18/5/2008', '20:30:00',  6.76 , 0.236, 234.9 , 29.8,  2., 52., 28.),\n",
       "       ('12/9/2007', '22:00:00',  6.18 , 0.252, 234.07, 26.4,  0., 70., 17.),\n",
       "       ('6/7/2007', '21:32:00',  6.956, 0.182, 236.82, 29.4, 37., 51., 18.),\n",
       "       ('16/6/2009', '18:25:00',  6.866, 0.088, 234.55, 29.4,  0., 36., 17.),\n",
       "       ('30/1/2010', '18:14:00',  7.128, 0.18 , 233.87, 30.4,  1., 72., 18.),\n",
       "       ('4/3/2007', '19:37:00',  6.99 , 0.38 , 232.51, 30.2,  4., 71., 16.),\n",
       "       ('30/12/2009', '19:31:00',  6.158, 0.474, 237.35, 26. ,  0., 74.,  1.),\n",
       "       ('20/3/2007', '21:52:00',  6.302, 0.248, 233.75, 27. ,  1., 36., 17.),\n",
       "       ('8/12/2007', '20:37:00',  6.008, 0.316, 234.51, 25.6,  0., 37., 17.),\n",
       "       ('10/1/2009', '19:58:00',  8.68 , 0.   , 231.86, 37.4, 36., 71., 16.),\n",
       "       ('24/8/2007', '20:49:00',  8.366, 0.724, 232.79, 36. , 36., 38., 17.),\n",
       "       ('30/12/2009', '19:37:00',  6.696, 0.42 , 237.59, 28.2,  0., 73.,  1.),\n",
       "       ('17/6/2007', '18:07:00',  6.32 , 0.46 , 235.19, 27. ,  0., 34., 17.),\n",
       "       ('17/3/2009', '20:30:00',  6.64 , 0.086, 238.21, 27.8,  0., 66., 17.),\n",
       "       ('13/4/2009', '20:53:00',  6.03 , 0.178, 235.76, 25.6,  1., 73.,  1.),\n",
       "       ('15/11/2009', '18:26:00',  6.488, 0.544, 230.19, 28.2,  0., 31., 17.),\n",
       "       ('24/8/2007', '20:46:00',  6.444, 0.51 , 234.34, 27.8, 26., 38., 17.),\n",
       "       ('13/10/2007', '20:33:00',  6.158, 0.472, 233.06, 26.6,  0., 36., 16.),\n",
       "       ('23/3/2008', '20:29:00',  7.222, 0.202, 233.71, 30.8,  0., 73., 17.),\n",
       "       ('28/12/2007', '18:02:00',  6.408, 0.238, 236.3 , 27.2,  0., 59., 17.),\n",
       "       ('2/5/2010', '19:10:00',  7.33 , 0.   , 232.51, 31.6, 27., 72., 17.),\n",
       "       ('22/9/2008', '20:21:00',  6.706, 0.108, 233.99, 28.6,  1., 70., 17.),\n",
       "       ('16/1/2009', '20:30:00',  7.1  , 0.51 , 235.31, 30.8, 27., 28., 17.),\n",
       "       ('16/7/2008', '21:01:00',  6.26 , 0.336, 236.12, 26.4,  0., 74., 18.),\n",
       "       ('4/12/2007', '21:47:00',  6.018, 0.   , 238.03, 25.2,  0., 36., 17.),\n",
       "       ('22/12/2007', '21:05:00',  6.992, 0.394, 235.22, 29.8,  1., 27., 17.),\n",
       "       ('20/4/2008', '21:12:00',  6.378, 0.3  , 232.96, 27.4,  1., 36., 17.),\n",
       "       ('9/12/2007', '19:24:00',  6.252, 0.296, 230.33, 27.2,  0., 34., 17.),\n",
       "       ('4/12/2007', '21:46:00',  6.028, 0.   , 237.73, 25.4,  0., 36., 17.),\n",
       "       ('26/9/2007', '21:26:00',  6.014, 0.378, 233.55, 25.8,  0., 36., 16.),\n",
       "       ('24/11/2009', '19:42:00',  8.12 , 0.48 , 233.89, 35. , 37., 48., 17.),\n",
       "       ('7/1/2007', '18:15:00',  7.002, 0.55 , 231.83, 30.8,  0., 36., 17.),\n",
       "       ('26/5/2010', '19:18:00',  6.53 , 0.222, 231.37, 28.2,  0., 70., 12.),\n",
       "       ('20/4/2008', '21:06:00',  7.616, 0.346, 231.83, 32.8,  1., 71., 17.),\n",
       "       ('13/10/2007', '20:00:00',  6.502, 0.266, 231.85, 28. ,  0., 35., 16.),\n",
       "       ('28/12/2007', '18:06:00',  6.374, 0.346, 236.02, 27. ,  0., 67., 17.),\n",
       "       ('17/4/2009', '20:41:00',  6.614, 0.228, 236.25, 28.4,  0., 55., 18.),\n",
       "       ('9/1/2007', '20:49:00',  6.112, 0.116, 233.81, 26.2,  0., 36., 18.),\n",
       "       ('29/12/2006', '21:18:00',  6.15 , 0.118, 230.77, 26.6,  0., 70.,  0.),\n",
       "       ('22/9/2008', '20:16:00',  6.646, 0.212, 230.75, 28.8,  1., 68., 17.),\n",
       "       ('23/1/2010', '18:32:00',  6.694, 0.566, 233.15, 28.8,  0., 39., 27.),\n",
       "       ('22/12/2007', '20:50:00',  6.226, 0.382, 233.35, 26.8,  1., 35.,  0.),\n",
       "       ('10/1/2009', '19:56:00',  8.716, 0.06 , 231.62, 37.6, 36., 71., 16.),\n",
       "       ('9/12/2007', '19:08:00',  6.202, 0.178, 230.9 , 26.8,  0., 34., 17.),\n",
       "       ('2/2/2008', '19:51:00',  7.302, 0.476, 230.7 , 32. , 15., 36., 16.),\n",
       "       ('9/1/2007', '21:00:00',  7.54 , 0.152, 233.88, 32.2,  0., 72., 16.),\n",
       "       ('12/10/2008', '19:32:00',  6.394, 0.486, 233.29, 27.6,  0., 36., 17.),\n",
       "       ('31/3/2009', '20:39:00',  6.506, 0.   , 234.28, 27.6,  0., 71., 16.),\n",
       "       ('13/10/2007', '20:11:00',  8.702, 0.106, 229.34, 37.8,  0., 34., 17.),\n",
       "       ('22/2/2007', '21:11:00',  9.248, 0.   , 224.48, 41.2, 34., 66., 15.),\n",
       "       ('12/11/2007', '20:33:00',  7.85 , 0.372, 231.59, 33.8,  0., 71., 17.),\n",
       "       ('14/6/2007', '20:04:00',  6.476, 0.538, 237.66, 27.2, 38., 39., 17.),\n",
       "       ('25/6/2007', '21:30:00',  6.102, 0.07 , 233.28, 26. ,  0., 71., 16.),\n",
       "       ('20/2/2007', '20:31:00',  7.204, 0.09 , 231.78, 31. ,  0., 71., 16.),\n",
       "       ('17/3/2009', '20:23:00',  7.058, 0.116, 237.27, 30. ,  0., 64., 18.),\n",
       "       ('9/12/2007', '19:14:00',  6.284, 0.292, 230.12, 27.2,  0., 34., 16.),\n",
       "       ('17/3/2009', '20:29:00',  6.286, 0.106, 238.09, 26.4,  0., 57., 18.),\n",
       "       ('27/3/2010', '18:35:00',  6.6  , 0.252, 234.02, 28.2,  0., 71., 17.),\n",
       "       ('23/12/2007', '19:41:00',  6.312, 0.442, 235.12, 27.2, 16., 39., 17.),\n",
       "       ('1/1/2009', '20:47:00',  7.054, 0.368, 236.69, 30. ,  0., 73.,  0.),\n",
       "       ('22/2/2009', '21:03:00',  6.74 , 0.406, 237.9 , 28.4,  1., 73.,  0.),\n",
       "       ('22/2/2007', '21:37:00',  6.222, 0.192, 229.33, 27.2,  1., 27., 17.),\n",
       "       ('23/3/2008', '20:30:00',  6.952, 0.178, 234.24, 29.6,  0., 72., 17.),\n",
       "       ('31/3/2009', '20:40:00',  6.552, 0.   , 234.97, 27.8,  0., 72., 17.),\n",
       "       ('22/11/2008', '21:49:00',  7.266, 0.058, 229.68, 31.6, 35., 36., 16.),\n",
       "       ('16/12/2006', '18:06:00',  6.752, 0.186, 232.12, 29. ,  0., 36., 17.),\n",
       "       ('30/1/2010', '18:42:00',  6.814, 0.378, 235.08, 29. , 36., 38., 18.),\n",
       "       ('23/11/2008', '20:20:00',  6.87 , 0.356, 232.34, 29.6,  1., 34., 16.),\n",
       "       ('25/6/2007', '21:25:00',  6.254, 0.108, 234.64, 26.6,  0., 72., 17.),\n",
       "       ('13/10/2007', '20:12:00',  6.888, 0.136, 231.11, 30.2,  0., 34., 16.),\n",
       "       ('4/11/2008', '20:41:00',  6.634, 0.398, 231.43, 29. ,  0., 54., 16.),\n",
       "       ('31/3/2007', '19:59:00',  6.566, 0.536, 236.24, 28. ,  0., 37., 17.),\n",
       "       ('30/1/2010', '20:17:00',  6.914, 0.572, 234.74, 29.6,  0., 36., 18.),\n",
       "       ('22/2/2009', '20:16:00',  6.68 , 0.306, 238.11, 28. ,  0., 75., 18.),\n",
       "       ('9/12/2007', '19:19:00',  6.272, 0.31 , 229.89, 27.2,  0., 34., 16.),\n",
       "       ('20/3/2007', '21:45:00',  6.134, 0.28 , 232.25, 26.4,  1., 36., 16.),\n",
       "       ('28/12/2007', '18:04:00',  7.06 , 0.214, 235.42, 30. ,  0., 73., 17.),\n",
       "       ('18/5/2008', '20:32:00',  7.608, 0.25 , 234.4 , 32.8,  1., 63., 28.),\n",
       "       ('23/11/2008', '18:21:00',  6.432, 0.168, 231.56, 27.8,  0., 33., 16.),\n",
       "       ('28/12/2006', '21:06:00',  7.184, 0.   , 235.7 , 30.4,  2., 73., 17.),\n",
       "       ('23/12/2007', '19:29:00',  9.686, 0.41 , 231.01, 42. , 36., 64., 17.),\n",
       "       ('4/3/2007', '19:45:00',  6.372, 0.142, 233.3 , 27.2,  0., 71., 17.),\n",
       "       ('23/11/2008', '18:55:00',  6.57 , 0.382, 232.17, 28.2,  0., 40., 17.),\n",
       "       ('19/2/2007', '19:51:00',  6.532, 0.364, 230.11, 28.4,  0., 34., 16.),\n",
       "       ('2/5/2010', '19:11:00',  7.044, 0.048, 232.93, 30.4, 26., 72., 13.),\n",
       "       ('12/11/2007', '20:34:00',  7.726, 0.362, 231.68, 33.2,  0., 72., 16.),\n",
       "       ('19/2/2007', '18:42:00',  6.016, 0.224, 231.  , 26. ,  0., 35., 17.),\n",
       "       ('7/1/2007', '18:08:00',  6.74 , 0.   , 230.78, 29.2,  0., 70., 16.),\n",
       "       ('23/11/2008', '18:06:00',  7.514, 0.344, 229.27, 32.8,  0., 34., 16.),\n",
       "       ('3/7/2008', '21:40:00',  6.058, 0.   , 234.9 , 25.8,  1., 71., 18.),\n",
       "       ('13/10/2007', '19:59:00',  6.402, 0.244, 231.54, 27.6,  0., 34., 17.),\n",
       "       ('30/12/2009', '19:34:00',  7.014, 0.588, 238.  , 29.4,  0., 74.,  1.),\n",
       "       ('20/1/2007', '19:28:00',  6.11 , 0.272, 232.12, 26.4,  0., 32., 17.),\n",
       "       ('21/2/2007', '19:46:00',  6.694, 0.292, 232.04, 28.8,  0., 35.,  0.),\n",
       "       ('2/2/2008', '19:42:00',  7.076, 0.546, 228.62, 31.2, 21., 35., 17.),\n",
       "       ('22/12/2007', '20:54:00',  6.988, 0.372, 234.78, 30. , 11., 36.,  0.),\n",
       "       ('12/11/2007', '20:38:00',  7.77 , 0.368, 233.43, 33.2,  0., 73., 16.),\n",
       "       ('31/3/2007', '20:05:00',  6.21 , 0.526, 235.8 , 26.4,  0., 37., 17.),\n",
       "       ('30/11/2008', '20:11:00',  7.454, 0.   , 232.81, 32. ,  1., 71., 17.),\n",
       "       ('4/11/2008', '21:38:00',  6.546, 0.23 , 236.07, 27.6,  0., 73., 17.),\n",
       "       ('31/3/2009', '20:36:00',  6.522, 0.13 , 233.23, 27.8,  0., 71., 17.),\n",
       "       ('4/3/2007', '21:33:00',  6.75 , 0.   , 233.09, 28.8,  0., 71., 17.),\n",
       "       ('23/11/2008', '20:35:00',  6.616, 0.164, 233.05, 28.4,  1., 37., 17.),\n",
       "       ('28/12/2006', '21:14:00',  9.118, 0.108, 231.18, 39.4, 36., 72., 16.),\n",
       "       ('23/11/2008', '20:27:00',  7.196, 0.202, 232.66, 30.8,  1., 36., 17.),\n",
       "       ('25/6/2007', '21:28:00',  6.104, 0.074, 233.61, 26. ,  0., 72., 17.),\n",
       "       ('23/12/2007', '19:10:00',  6.764, 0.244, 231.21, 29.2,  0., 70.,  0.),\n",
       "       ('20/4/2008', '21:08:00',  6.366, 0.368, 232.97, 27.4,  2., 37., 18.),\n",
       "       ('22/2/2009', '21:14:00',  7.246, 0.286, 233.3 , 31.4, 37., 49.,  0.),\n",
       "       ('12/9/2007', '22:03:00',  6.156, 0.266, 233.68, 26.2,  0., 72., 17.),\n",
       "       ('24/11/2009', '19:40:00',  8.422, 0.376, 234.06, 36.2, 37., 48., 17.),\n",
       "       ('23/11/2008', '18:38:00',  6.428, 0.336, 232.45, 27.8,  0., 21., 17.),\n",
       "       ('18/11/2009', '19:53:00',  6.014, 0.594, 237.74, 25.6,  0., 30., 19.),\n",
       "       ('23/11/2008', '20:52:00',  6.13 , 0.402, 235.94, 26. ,  1., 34., 17.),\n",
       "       ('16/7/2008', '21:02:00',  6.324, 0.328, 235.59, 26.8,  0., 73., 18.),\n",
       "       ('9/12/2007', '19:25:00',  6.34 , 0.31 , 229.92, 27.6,  0., 34., 16.),\n",
       "       ('26/6/2007', '22:26:00',  7.29 , 0.132, 233.21, 31.2, 36., 38., 17.),\n",
       "       ('31/3/2009', '20:34:00',  6.682, 0.148, 232.77, 28.6,  0., 70., 17.),\n",
       "       ('30/11/2008', '20:17:00', 10.074, 0.06 , 231.41, 43.4, 36., 70., 16.),\n",
       "       ('30/1/2010', '18:20:00',  7.044, 0.19 , 233.33, 30.2,  2., 71., 18.),\n",
       "       ('28/12/2007', '18:01:00',  7.228, 0.284, 235.22, 30.6,  0., 73., 17.),\n",
       "       ('22/2/2007', '21:04:00',  8.616, 0.086, 227.4 , 38. , 35., 55., 16.),\n",
       "       ('30/12/2009', '20:38:00',  7.46 , 0.094, 234.16, 32. , 34., 36., 18.),\n",
       "       ('7/3/2010', '18:15:00',  6.554, 0.324, 234.2 , 28.4,  0., 71.,  1.),\n",
       "       ('23/2/2010', '22:01:00',  6.546, 0.092, 234.48, 27.8,  0., 73., 17.),\n",
       "       ('15/1/2010', '20:57:00',  6.422, 0.462, 237.35, 28. , 10., 52., 18.),\n",
       "       ('23/11/2008', '20:34:00',  6.914, 0.138, 232.12, 29.8,  2., 35., 17.),\n",
       "       ('3/7/2008', '21:44:00',  7.066, 0.   , 234.33, 30.4, 36., 52., 18.),\n",
       "       ('31/3/2009', '20:38:00',  6.444, 0.   , 233.25, 27.6,  0., 71., 17.),\n",
       "       ('9/1/2007', '20:56:00',  8.39 , 0.106, 233.83, 36. ,  0., 72., 17.),\n",
       "       ('2/2/2008', '19:39:00',  7.9  , 0.578, 230.22, 34.8, 21., 35., 17.),\n",
       "       ('8/6/2008', '21:41:00',  6.878, 0.158, 235.67, 29.2,  0., 73., 17.),\n",
       "       ('20/3/2007', '21:35:00',  6.11 , 0.242, 234.55, 26. ,  1., 35., 16.),\n",
       "       ('18/5/2008', '20:36:00',  7.032, 0.   , 233.97, 30. , 34., 36., 17.),\n",
       "       ('30/11/2008', '20:26:00',  7.746, 0.192, 234.16, 33. , 36., 37., 17.),\n",
       "       ('23/2/2009', '22:06:00',  7.12 , 0.214, 233.28, 30.4,  2., 70., 17.),\n",
       "       ('24/3/2007', '18:59:00',  6.978, 0.286, 231.41, 30.6,  0., 34., 17.),\n",
       "       ('20/4/2008', '21:40:00',  6.4  , 0.126, 232.68, 27.4, 35., 36., 17.),\n",
       "       ('20/11/2010', '18:23:00',  9.656, 0.068, 225.43, 42.8, 44., 67., 16.),\n",
       "       ('22/2/2009', '20:14:00',  6.524, 0.182, 236.37, 27.6,  0., 73., 17.),\n",
       "       ('2/1/2009', '18:35:00',  7.186, 0.11 , 234.72, 30.8, 29., 36., 17.),\n",
       "       ('20/10/2008', '20:02:00',  6.124, 0.054, 234.09, 26.2,  0., 37., 18.),\n",
       "       ('20/11/2010', '18:25:00',  9.648, 0.066, 225.41, 42.8, 44., 67., 16.),\n",
       "       ('12/10/2008', '20:25:00',  8.22 , 0.156, 230.71, 35.8,  0., 67., 26.),\n",
       "       ('13/10/2007', '20:01:00',  6.598, 0.248, 232.11, 28.4,  0., 35., 17.),\n",
       "       ('25/6/2007', '21:29:00',  6.12 , 0.086, 233.48, 26.2,  0., 72., 17.),\n",
       "       ('30/1/2010', '18:22:00',  6.878, 0.188, 234.55, 29.2,  1., 71., 18.),\n",
       "       ('15/2/2007', '19:40:00',  6.36 , 0.448, 234.94, 27.2,  0., 37., 17.),\n",
       "       ('5/3/2008', '18:35:00',  6.512, 0.272, 233.92, 27.8,  0., 72.,  0.),\n",
       "       ('8/12/2007', '20:40:00',  6.222, 0.324, 233.62, 26.6,  0., 36., 17.),\n",
       "       ('17/4/2009', '20:50:00',  6.96 , 0.15 , 235.4 , 29.4,  0., 72., 18.),\n",
       "       ('22/1/2007', '20:22:00',  7.144, 0.21 , 231.77, 31. ,  0., 66., 17.),\n",
       "       ('9/1/2007', '20:57:00',  8.67 , 0.114, 232.89, 37.2,  0., 71., 16.),\n",
       "       ('3/2/2010', '21:44:00',  6.706, 0.342, 230.47, 29.4, 26., 35., 26.),\n",
       "       ('29/12/2006', '21:22:00',  6.214, 0.12 , 230.53, 26.8,  0., 70.,  0.),\n",
       "       ('4/3/2007', '21:31:00',  6.9  , 0.   , 233.56, 29.4,  0., 71., 17.),\n",
       "       ('27/3/2010', '18:33:00',  6.17 , 0.33 , 234.15, 26.6,  0., 63., 17.),\n",
       "       ('24/11/2009', '19:45:00',  6.294, 0.402, 235.17, 27. , 13., 36., 18.),\n",
       "       ('2/2/2008', '19:37:00',  6.162, 0.608, 232.39, 26.6,  1., 36., 17.),\n",
       "       ('20/1/2007', '19:16:00',  6.23 , 0.45 , 228.98, 27.2,  0., 35., 16.),\n",
       "       ('3/7/2007', '22:17:00',  6.182, 0.198, 232.5 , 27. ,  0., 62., 17.),\n",
       "       ('13/10/2007', '20:02:00',  7.78 , 0.256, 230.81, 34.2,  0., 34., 16.),\n",
       "       ('20/11/2010', '18:38:00',  6.302, 0.376, 229.65, 27.8, 15., 34., 17.),\n",
       "       ('2/4/2007', '22:01:00',  6.014, 0.   , 232.69, 25.8,  1., 36., 17.),\n",
       "       ('23/11/2008', '20:25:00',  7.176, 0.202, 232.18, 30.8,  1., 36., 16.),\n",
       "       ('29/12/2006', '21:27:00',  6.664, 0.   , 228.2 , 29.2,  0., 69., 15.),\n",
       "       ('27/6/2007', '20:00:00',  7.436, 0.384, 231.24, 32.2,  0., 27., 16.),\n",
       "       ('9/12/2007', '19:04:00',  6.238, 0.18 , 231.14, 27. ,  0., 34., 16.),\n",
       "       ('23/3/2008', '20:35:00',  6.692, 0.188, 233.15, 28.6,  0., 72., 17.),\n",
       "       ('30/1/2010', '18:16:00',  6.89 , 0.188, 234.64, 29.2,  1., 72., 17.),\n",
       "       ('10/1/2009', '19:55:00',  7.982, 0.068, 232.53, 34.6, 22., 71., 17.),\n",
       "       ('16/1/2009', '20:16:00',  6.838, 0.234, 236.46, 29.2, 20., 36., 18.),\n",
       "       ('15/2/2007', '19:36:00',  6.61 , 0.646, 233.86, 28.6,  0., 36., 16.),\n",
       "       ('9/12/2007', '19:13:00',  6.25 , 0.272, 229.66, 27.2,  0., 34., 16.),\n",
       "       ('12/10/2008', '20:23:00',  7.312, 0.068, 231.74, 31.6,  0., 62., 17.),\n",
       "       ('20/1/2007', '19:18:00',  6.238, 0.45 , 229.29, 27.2,  0., 35., 17.),\n",
       "       ('4/11/2008', '21:39:00',  6.316, 0.194, 235.94, 26.6,  0., 73., 17.),\n",
       "       ('22/2/2009', '20:17:00',  6.642, 0.296, 237.56, 27.8,  0., 74., 17.),\n",
       "       ('20/4/2008', '21:09:00',  7.13 , 0.34 , 232.47, 31. ,  1., 44., 17.),\n",
       "       ('23/11/2008', '18:42:00',  6.486, 0.268, 233.85, 27.8,  0., 20., 17.),\n",
       "       ('23/3/2008', '20:26:00',  7.09 , 0.194, 233.25, 30.4,  0., 72., 17.),\n",
       "       ('10/1/2009', '19:51:00',  6.79 , 0.172, 233.96, 29. ,  1., 71., 17.),\n",
       "       ('28/12/2007', '18:03:00',  6.654, 0.226, 236.07, 28.2,  0., 66., 17.),\n",
       "       ('20/11/2010', '18:36:00',  6.574, 0.382, 229.87, 29. , 19., 35., 16.),\n",
       "       ('4/3/2007', '19:33:00', 10.65 , 0.5  , 229.97, 46.4, 36., 70., 17.),\n",
       "       ('20/2/2007', '20:28:00',  8.374, 0.082, 234.12, 35.8,  0., 72., 17.),\n",
       "       ('4/3/2007', '21:32:00',  6.918, 0.   , 233.6 , 29.6,  0., 71., 16.),\n",
       "       ('31/3/2007', '20:01:00',  6.142, 0.528, 236.21, 26. ,  0., 36., 17.),\n",
       "       ('2/2/2008', '19:36:00',  7.796, 0.578, 230.73, 34. , 33., 35., 16.),\n",
       "       ('1/4/2007', '22:03:00',  6.252, 0.292, 233.45, 26.8,  2., 36., 17.),\n",
       "       ('4/11/2008', '20:46:00',  7.72 , 0.45 , 232.88, 33.2,  0., 72., 17.),\n",
       "       ('8/12/2007', '20:00:00',  6.002, 0.286, 233.41, 25.6,  0., 35., 17.),\n",
       "       ('23/1/2010', '18:29:00',  6.164, 0.378, 234.55, 26.2,  0., 37., 17.),\n",
       "       ('23/1/2010', '18:08:00',  6.828, 0.172, 232.29, 29.4,  0., 70.,  0.),\n",
       "       ('11/2/2009', '18:37:00',  6.012, 0.322, 235.77, 25.4,  0., 35., 17.),\n",
       "       ('7/1/2007', '18:07:00',  6.516, 0.048, 230.88, 28.2,  0., 70., 17.),\n",
       "       ('20/3/2007', '21:38:00',  6.052, 0.26 , 233.59, 25.8,  1., 35., 17.),\n",
       "       ('22/12/2007', '21:00:00',  7.362, 0.5  , 234.04, 31.6,  1., 34., 18.)],\n",
       "      dtype=[('Date', '<U10'), ('Time', '<U8'), ('Global_active_power', '<f8'), ('Global_reactive_power', '<f8'), ('Voltage', '<f8'), ('Global_intensity', '<f8'), ('Sub_metering_1', '<f8'), ('Sub_metering_2', '<f8'), ('Sub_metering_3', '<f8')])"
      ]
     },
     "execution_count": 68,
     "metadata": {},
     "output_type": "execute_result"
    }
   ],
   "source": [
    "function_5_n()"
   ]
  },
  {
   "cell_type": "markdown",
   "metadata": {},
   "source": [
    "## Measure the Execution Time of a Program\n"
   ]
  },
  {
   "cell_type": "code",
   "execution_count": 69,
   "metadata": {},
   "outputs": [],
   "source": [
    "\n",
    "def time_measure(func, arg):    \n",
    "    if arg == 0:\n",
    "        print(f'Time fot func {func} is: {timeit.timeit(lambda: func(), setup=\"pass\",number=1)} second')\n",
    "    else:\n",
    "        print(f'Time fot func {func} is: {timeit.timeit(lambda: func(arg), setup=\"pass\",number=1)} second')"
   ]
  },
  {
   "cell_type": "code",
   "execution_count": 70,
   "metadata": {},
   "outputs": [
    {
     "name": "stdout",
     "output_type": "stream",
     "text": [
      "Time fot func <function readind_text_pandas at 0x16a55b560> is: 2.1389244650199544 second\n",
      "0          5.360\n",
      "1          5.374\n",
      "2          5.388\n",
      "10         5.412\n",
      "11         5.224\n",
      "           ...  \n",
      "2069355    5.408\n",
      "2069356    5.528\n",
      "2071585    5.172\n",
      "2071586    5.750\n",
      "2072996    5.074\n",
      "Name: Global_active_power, Length: 17547, dtype: float64\n",
      "17547\n",
      "Time fot func <function active_more_than at 0x16a558360> is: 0.00760644901311025 second\n",
      "Time fot func <function active_more_than_n at 0x16a55b880> is: 0.022965289012063295 second\n",
      "3          235.68\n",
      "4          235.02\n",
      "5          235.09\n",
      "6          235.22\n",
      "13         235.24\n",
      "            ...  \n",
      "2075253    240.43\n",
      "2075254    240.00\n",
      "2075255    239.82\n",
      "2075256    239.70\n",
      "2075257    239.55\n",
      "Name: Voltage, Length: 1978470, dtype: float64\n",
      "1978470\n",
      "Time fot func <function voltage_higher at 0x16a5593a0> is: 0.18052117500337772 second\n",
      "Time fot func <function voltage_higher_n at 0x16a55b7e0> is: 0.36729306500637904 second\n",
      "         Sub_metering_2  Sub_metering_3  Global_intensity\n",
      "459                13.0             0.0              19.6\n",
      "463                27.0             0.0              19.6\n",
      "474                36.0             0.0              19.4\n",
      "475                35.0             0.0              19.4\n",
      "476                36.0             0.0              19.4\n",
      "...                 ...             ...               ...\n",
      "2071587            38.0            16.0              19.6\n",
      "2071588            39.0            17.0              19.8\n",
      "2071589            39.0            18.0              19.8\n",
      "2071590            40.0            17.0              19.4\n",
      "2071592            39.0            17.0              19.4\n",
      "\n",
      "[1678 rows x 3 columns]\n",
      "1678\n",
      "Time fot func <function function_3 at 0x16a5582c0> is: 0.01675901500857435 second\n",
      "Time fot func <function function_3_n at 0x16a55bc40> is: 0.04536948099848814 second\n",
      "Time fot func <function function_4 at 0x16a558400> is: 0.15345086200977676 second\n",
      "Time fot func <function function_4_n at 0x16a55b6a0> is: 0.11128951198770665 second\n"
     ]
    }
   ],
   "source": [
    "time_measure(readind_text_pandas,file_path)\n",
    "# time_measure(readind_text_numpy,file_path)\n",
    "\n",
    "time_measure(active_more_than, 5)\n",
    "time_measure(active_more_than_n, 5)\n",
    "\n",
    "time_measure(voltage_higher, 235)\n",
    "time_measure(voltage_higher_n, 235)\n",
    "\n",
    "time_measure(function_3, 0)\n",
    "time_measure(function_3_n, 0)\n",
    "\n",
    "time_measure(function_4, 5000)\n",
    "time_measure(function_4_n, 5000)\n",
    "\n",
    "# переробити цю "
   ]
  }
 ],
 "metadata": {
  "kernelspec": {
   "display_name": "Python 3",
   "language": "python",
   "name": "python3"
  },
  "language_info": {
   "codemirror_mode": {
    "name": "ipython",
    "version": 3
   },
   "file_extension": ".py",
   "mimetype": "text/x-python",
   "name": "python",
   "nbconvert_exporter": "python",
   "pygments_lexer": "ipython3",
   "version": "3.11.4"
  },
  "orig_nbformat": 4
 },
 "nbformat": 4,
 "nbformat_minor": 2
}
